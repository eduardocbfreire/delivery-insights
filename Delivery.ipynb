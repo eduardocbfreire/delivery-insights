{
 "cells": [
  {
   "cell_type": "markdown",
   "metadata": {},
   "source": [
    "### Realizando importações"
   ]
  },
  {
   "cell_type": "code",
   "execution_count": 251,
   "metadata": {},
   "outputs": [],
   "source": [
    "# Bibliotecas\n",
    "\n",
    "import pandas as pd\n",
    "import numpy as np\n",
    "import seaborn as sns\n",
    "import matplotlib.pyplot as plt\n",
    "\n",
    "#Arquivos\n",
    "\n",
    "channels = pd.read_csv(\"channels.csv\")\n",
    "deliveries = pd.read_csv(\"deliveries.csv\")\n",
    "drivers = pd.read_csv(\"drivers.csv\")\n",
    "hub = pd.read_csv(\"hubs.csv\")\n",
    "orders = pd.read_csv(\"orders.csv\")\n",
    "payments = pd.read_csv(\"payments.csv\")\n",
    "stores = pd.read_csv(\"stores.csv\")"
   ]
  },
  {
   "cell_type": "markdown",
   "metadata": {},
   "source": [
    "## Análise inicial"
   ]
  },
  {
   "cell_type": "markdown",
   "metadata": {},
   "source": [
    "#### Channels"
   ]
  },
  {
   "cell_type": "code",
   "execution_count": 252,
   "metadata": {},
   "outputs": [
    {
     "data": {
      "text/html": [
       "<div>\n",
       "<style scoped>\n",
       "    .dataframe tbody tr th:only-of-type {\n",
       "        vertical-align: middle;\n",
       "    }\n",
       "\n",
       "    .dataframe tbody tr th {\n",
       "        vertical-align: top;\n",
       "    }\n",
       "\n",
       "    .dataframe thead th {\n",
       "        text-align: right;\n",
       "    }\n",
       "</style>\n",
       "<table border=\"1\" class=\"dataframe\">\n",
       "  <thead>\n",
       "    <tr style=\"text-align: right;\">\n",
       "      <th></th>\n",
       "      <th>channel_id</th>\n",
       "      <th>channel_name</th>\n",
       "      <th>channel_type</th>\n",
       "    </tr>\n",
       "  </thead>\n",
       "  <tbody>\n",
       "    <tr>\n",
       "      <th>0</th>\n",
       "      <td>1</td>\n",
       "      <td>OTHER PLACE</td>\n",
       "      <td>OWN CHANNEL</td>\n",
       "    </tr>\n",
       "    <tr>\n",
       "      <th>1</th>\n",
       "      <td>2</td>\n",
       "      <td>PHONE PLACE</td>\n",
       "      <td>OWN CHANNEL</td>\n",
       "    </tr>\n",
       "    <tr>\n",
       "      <th>2</th>\n",
       "      <td>3</td>\n",
       "      <td>WHATS PLACE</td>\n",
       "      <td>OWN CHANNEL</td>\n",
       "    </tr>\n",
       "    <tr>\n",
       "      <th>3</th>\n",
       "      <td>4</td>\n",
       "      <td>FACE PLACE</td>\n",
       "      <td>OWN CHANNEL</td>\n",
       "    </tr>\n",
       "    <tr>\n",
       "      <th>4</th>\n",
       "      <td>5</td>\n",
       "      <td>FOOD PLACE</td>\n",
       "      <td>MARKETPLACE</td>\n",
       "    </tr>\n",
       "  </tbody>\n",
       "</table>\n",
       "</div>"
      ],
      "text/plain": [
       "   channel_id channel_name channel_type\n",
       "0           1  OTHER PLACE  OWN CHANNEL\n",
       "1           2  PHONE PLACE  OWN CHANNEL\n",
       "2           3  WHATS PLACE  OWN CHANNEL\n",
       "3           4   FACE PLACE  OWN CHANNEL\n",
       "4           5   FOOD PLACE  MARKETPLACE"
      ]
     },
     "execution_count": 252,
     "metadata": {},
     "output_type": "execute_result"
    }
   ],
   "source": [
    "channels.head()"
   ]
  },
  {
   "cell_type": "code",
   "execution_count": 253,
   "metadata": {},
   "outputs": [
    {
     "data": {
      "text/plain": [
       "(40, 3)"
      ]
     },
     "execution_count": 253,
     "metadata": {},
     "output_type": "execute_result"
    }
   ],
   "source": [
    "channels.shape"
   ]
  },
  {
   "cell_type": "code",
   "execution_count": 254,
   "metadata": {},
   "outputs": [
    {
     "data": {
      "text/plain": [
       "np.int64(0)"
      ]
     },
     "execution_count": 254,
     "metadata": {},
     "output_type": "execute_result"
    }
   ],
   "source": [
    "deliveries.duplicated().sum()"
   ]
  },
  {
   "cell_type": "code",
   "execution_count": 255,
   "metadata": {},
   "outputs": [
    {
     "data": {
      "text/plain": [
       "array(['OTHER PLACE', 'PHONE PLACE', 'WHATS PLACE', 'FACE PLACE',\n",
       "       'FOOD PLACE', 'STORE PLACE', 'BERLIN PLACE', 'MADRID PLACE',\n",
       "       'THINK PLACE', 'LISBON PLACE', 'SUPER PLACE', 'ALL PLACE',\n",
       "       'VELOCITY PLACE', 'EATS PLACE', 'SHOPP PLACE', 'MUNICH PLACE',\n",
       "       'LONDON PLACE', 'ATCHIN PLACE', 'FULL PLACE', 'ON PLACE',\n",
       "       'REGISTER PLACE', 'GLUB PLACE', 'SPEED PLACE', 'SEARCH PLACE',\n",
       "       'BEATLES PLACE', 'SAN PLACE', 'AHORA PLACE', 'BRAZIL PLACE',\n",
       "       'OWN PLACE', 'LONGO PLACE', 'WEAR PLACE', 'RONALD PLACE',\n",
       "       'PANCEPS PLACE', 'OFF PLACE', 'CAICAI PLACE', 'READY PLACE',\n",
       "       'CHOCO PLACE', 'PORTO PLACE', 'CENTER PLACE', 'RIBA PLACE'],\n",
       "      dtype=object)"
      ]
     },
     "execution_count": 255,
     "metadata": {},
     "output_type": "execute_result"
    }
   ],
   "source": [
    "channels.channel_name.unique()"
   ]
  },
  {
   "cell_type": "code",
   "execution_count": 256,
   "metadata": {},
   "outputs": [
    {
     "data": {
      "text/plain": [
       "array(['OWN CHANNEL', 'MARKETPLACE'], dtype=object)"
      ]
     },
     "execution_count": 256,
     "metadata": {},
     "output_type": "execute_result"
    }
   ],
   "source": [
    "channels.channel_type.unique()"
   ]
  },
  {
   "cell_type": "markdown",
   "metadata": {},
   "source": []
  },
  {
   "cell_type": "markdown",
   "metadata": {},
   "source": [
    "#### Deliveries"
   ]
  },
  {
   "cell_type": "code",
   "execution_count": 257,
   "metadata": {},
   "outputs": [
    {
     "data": {
      "text/html": [
       "<div>\n",
       "<style scoped>\n",
       "    .dataframe tbody tr th:only-of-type {\n",
       "        vertical-align: middle;\n",
       "    }\n",
       "\n",
       "    .dataframe tbody tr th {\n",
       "        vertical-align: top;\n",
       "    }\n",
       "\n",
       "    .dataframe thead th {\n",
       "        text-align: right;\n",
       "    }\n",
       "</style>\n",
       "<table border=\"1\" class=\"dataframe\">\n",
       "  <thead>\n",
       "    <tr style=\"text-align: right;\">\n",
       "      <th></th>\n",
       "      <th>delivery_id</th>\n",
       "      <th>delivery_order_id</th>\n",
       "      <th>driver_id</th>\n",
       "      <th>delivery_distance_meters</th>\n",
       "      <th>delivery_status</th>\n",
       "    </tr>\n",
       "  </thead>\n",
       "  <tbody>\n",
       "    <tr>\n",
       "      <th>0</th>\n",
       "      <td>2174658</td>\n",
       "      <td>68413340</td>\n",
       "      <td>8378.0</td>\n",
       "      <td>5199.0</td>\n",
       "      <td>DELIVERED</td>\n",
       "    </tr>\n",
       "    <tr>\n",
       "      <th>1</th>\n",
       "      <td>2174660</td>\n",
       "      <td>68414309</td>\n",
       "      <td>2473.0</td>\n",
       "      <td>410.0</td>\n",
       "      <td>DELIVERED</td>\n",
       "    </tr>\n",
       "    <tr>\n",
       "      <th>2</th>\n",
       "      <td>2174661</td>\n",
       "      <td>68416230</td>\n",
       "      <td>7615.0</td>\n",
       "      <td>3784.0</td>\n",
       "      <td>DELIVERED</td>\n",
       "    </tr>\n",
       "    <tr>\n",
       "      <th>3</th>\n",
       "      <td>2174663</td>\n",
       "      <td>68412721</td>\n",
       "      <td>8378.0</td>\n",
       "      <td>5714.0</td>\n",
       "      <td>DELIVERED</td>\n",
       "    </tr>\n",
       "    <tr>\n",
       "      <th>4</th>\n",
       "      <td>2174675</td>\n",
       "      <td>68414018</td>\n",
       "      <td>10463.0</td>\n",
       "      <td>3746.0</td>\n",
       "      <td>DELIVERED</td>\n",
       "    </tr>\n",
       "  </tbody>\n",
       "</table>\n",
       "</div>"
      ],
      "text/plain": [
       "   delivery_id  delivery_order_id  driver_id  delivery_distance_meters  \\\n",
       "0      2174658           68413340     8378.0                    5199.0   \n",
       "1      2174660           68414309     2473.0                     410.0   \n",
       "2      2174661           68416230     7615.0                    3784.0   \n",
       "3      2174663           68412721     8378.0                    5714.0   \n",
       "4      2174675           68414018    10463.0                    3746.0   \n",
       "\n",
       "  delivery_status  \n",
       "0       DELIVERED  \n",
       "1       DELIVERED  \n",
       "2       DELIVERED  \n",
       "3       DELIVERED  \n",
       "4       DELIVERED  "
      ]
     },
     "execution_count": 257,
     "metadata": {},
     "output_type": "execute_result"
    }
   ],
   "source": [
    "deliveries.head()"
   ]
  },
  {
   "cell_type": "code",
   "execution_count": 258,
   "metadata": {},
   "outputs": [
    {
     "data": {
      "text/plain": [
       "(378843, 5)"
      ]
     },
     "execution_count": 258,
     "metadata": {},
     "output_type": "execute_result"
    }
   ],
   "source": [
    "deliveries.shape"
   ]
  },
  {
   "cell_type": "code",
   "execution_count": 259,
   "metadata": {},
   "outputs": [
    {
     "data": {
      "text/html": [
       "<div>\n",
       "<style scoped>\n",
       "    .dataframe tbody tr th:only-of-type {\n",
       "        vertical-align: middle;\n",
       "    }\n",
       "\n",
       "    .dataframe tbody tr th {\n",
       "        vertical-align: top;\n",
       "    }\n",
       "\n",
       "    .dataframe thead th {\n",
       "        text-align: right;\n",
       "    }\n",
       "</style>\n",
       "<table border=\"1\" class=\"dataframe\">\n",
       "  <thead>\n",
       "    <tr style=\"text-align: right;\">\n",
       "      <th></th>\n",
       "      <th>delivery_id</th>\n",
       "      <th>delivery_order_id</th>\n",
       "      <th>driver_id</th>\n",
       "      <th>delivery_distance_meters</th>\n",
       "    </tr>\n",
       "  </thead>\n",
       "  <tbody>\n",
       "    <tr>\n",
       "      <th>count</th>\n",
       "      <td>378843.00</td>\n",
       "      <td>378843.00</td>\n",
       "      <td>362957.00</td>\n",
       "      <td>378770.00</td>\n",
       "    </tr>\n",
       "    <tr>\n",
       "      <th>mean</th>\n",
       "      <td>2634216.36</td>\n",
       "      <td>82204223.39</td>\n",
       "      <td>21001.78</td>\n",
       "      <td>10721.36</td>\n",
       "    </tr>\n",
       "    <tr>\n",
       "      <th>std</th>\n",
       "      <td>264655.32</td>\n",
       "      <td>6996909.14</td>\n",
       "      <td>15520.65</td>\n",
       "      <td>231539.19</td>\n",
       "    </tr>\n",
       "    <tr>\n",
       "      <th>min</th>\n",
       "      <td>2174658.00</td>\n",
       "      <td>68409030.00</td>\n",
       "      <td>133.00</td>\n",
       "      <td>0.00</td>\n",
       "    </tr>\n",
       "    <tr>\n",
       "      <th>25%</th>\n",
       "      <td>2405588.50</td>\n",
       "      <td>76312978.00</td>\n",
       "      <td>7615.00</td>\n",
       "      <td>1184.00</td>\n",
       "    </tr>\n",
       "    <tr>\n",
       "      <th>50%</th>\n",
       "      <td>2637111.00</td>\n",
       "      <td>83083209.00</td>\n",
       "      <td>18754.00</td>\n",
       "      <td>2073.00</td>\n",
       "    </tr>\n",
       "    <tr>\n",
       "      <th>75%</th>\n",
       "      <td>2860334.50</td>\n",
       "      <td>87879715.00</td>\n",
       "      <td>31050.00</td>\n",
       "      <td>3507.00</td>\n",
       "    </tr>\n",
       "    <tr>\n",
       "      <th>max</th>\n",
       "      <td>3144739.00</td>\n",
       "      <td>93139817.00</td>\n",
       "      <td>66459.00</td>\n",
       "      <td>7251291.00</td>\n",
       "    </tr>\n",
       "  </tbody>\n",
       "</table>\n",
       "</div>"
      ],
      "text/plain": [
       "       delivery_id  delivery_order_id  driver_id  delivery_distance_meters\n",
       "count    378843.00          378843.00  362957.00                 378770.00\n",
       "mean    2634216.36        82204223.39   21001.78                  10721.36\n",
       "std      264655.32         6996909.14   15520.65                 231539.19\n",
       "min     2174658.00        68409030.00     133.00                      0.00\n",
       "25%     2405588.50        76312978.00    7615.00                   1184.00\n",
       "50%     2637111.00        83083209.00   18754.00                   2073.00\n",
       "75%     2860334.50        87879715.00   31050.00                   3507.00\n",
       "max     3144739.00        93139817.00   66459.00                7251291.00"
      ]
     },
     "execution_count": 259,
     "metadata": {},
     "output_type": "execute_result"
    }
   ],
   "source": [
    "deliveries.describe().round(2)"
   ]
  },
  {
   "cell_type": "code",
   "execution_count": 260,
   "metadata": {},
   "outputs": [
    {
     "data": {
      "text/plain": [
       "np.int64(0)"
      ]
     },
     "execution_count": 260,
     "metadata": {},
     "output_type": "execute_result"
    }
   ],
   "source": [
    "deliveries.duplicated().sum()"
   ]
  },
  {
   "cell_type": "code",
   "execution_count": 261,
   "metadata": {},
   "outputs": [
    {
     "data": {
      "text/html": [
       "<div>\n",
       "<style scoped>\n",
       "    .dataframe tbody tr th:only-of-type {\n",
       "        vertical-align: middle;\n",
       "    }\n",
       "\n",
       "    .dataframe tbody tr th {\n",
       "        vertical-align: top;\n",
       "    }\n",
       "\n",
       "    .dataframe thead th {\n",
       "        text-align: right;\n",
       "    }\n",
       "</style>\n",
       "<table border=\"1\" class=\"dataframe\">\n",
       "  <thead>\n",
       "    <tr style=\"text-align: right;\">\n",
       "      <th></th>\n",
       "      <th>delivery_id</th>\n",
       "      <th>delivery_order_id</th>\n",
       "      <th>driver_id</th>\n",
       "      <th>delivery_distance_meters</th>\n",
       "      <th>delivery_status</th>\n",
       "    </tr>\n",
       "  </thead>\n",
       "  <tbody>\n",
       "    <tr>\n",
       "      <th>7</th>\n",
       "      <td>2174695</td>\n",
       "      <td>68417783</td>\n",
       "      <td>NaN</td>\n",
       "      <td>2564.0</td>\n",
       "      <td>CANCELLED</td>\n",
       "    </tr>\n",
       "    <tr>\n",
       "      <th>63</th>\n",
       "      <td>2174845</td>\n",
       "      <td>68424547</td>\n",
       "      <td>NaN</td>\n",
       "      <td>2100.0</td>\n",
       "      <td>CANCELLED</td>\n",
       "    </tr>\n",
       "    <tr>\n",
       "      <th>79</th>\n",
       "      <td>2174883</td>\n",
       "      <td>68427057</td>\n",
       "      <td>NaN</td>\n",
       "      <td>2995.0</td>\n",
       "      <td>CANCELLED</td>\n",
       "    </tr>\n",
       "    <tr>\n",
       "      <th>149</th>\n",
       "      <td>2175046</td>\n",
       "      <td>68435678</td>\n",
       "      <td>NaN</td>\n",
       "      <td>3958.0</td>\n",
       "      <td>CANCELLED</td>\n",
       "    </tr>\n",
       "    <tr>\n",
       "      <th>306</th>\n",
       "      <td>2175468</td>\n",
       "      <td>68437922</td>\n",
       "      <td>NaN</td>\n",
       "      <td>5460.0</td>\n",
       "      <td>CANCELLED</td>\n",
       "    </tr>\n",
       "  </tbody>\n",
       "</table>\n",
       "</div>"
      ],
      "text/plain": [
       "     delivery_id  delivery_order_id  driver_id  delivery_distance_meters  \\\n",
       "7        2174695           68417783        NaN                    2564.0   \n",
       "63       2174845           68424547        NaN                    2100.0   \n",
       "79       2174883           68427057        NaN                    2995.0   \n",
       "149      2175046           68435678        NaN                    3958.0   \n",
       "306      2175468           68437922        NaN                    5460.0   \n",
       "\n",
       "    delivery_status  \n",
       "7         CANCELLED  \n",
       "63        CANCELLED  \n",
       "79        CANCELLED  \n",
       "149       CANCELLED  \n",
       "306       CANCELLED  "
      ]
     },
     "execution_count": 261,
     "metadata": {},
     "output_type": "execute_result"
    }
   ],
   "source": [
    "deliveries.query(\"delivery_status != 'DELIVERED'\").head()"
   ]
  },
  {
   "cell_type": "code",
   "execution_count": 262,
   "metadata": {},
   "outputs": [
    {
     "data": {
      "text/plain": [
       "array(['DELIVERED', 'CANCELLED', 'DELIVERING'], dtype=object)"
      ]
     },
     "execution_count": 262,
     "metadata": {},
     "output_type": "execute_result"
    }
   ],
   "source": [
    "deliveries.delivery_status.unique()"
   ]
  },
  {
   "cell_type": "code",
   "execution_count": 263,
   "metadata": {},
   "outputs": [
    {
     "data": {
      "text/plain": [
       "delivery_status\n",
       "DELIVERED     0.980266\n",
       "CANCELLED     0.019145\n",
       "DELIVERING    0.000589\n",
       "Name: proportion, dtype: float64"
      ]
     },
     "execution_count": 263,
     "metadata": {},
     "output_type": "execute_result"
    }
   ],
   "source": [
    "deliveries['delivery_status'].value_counts(normalize=True)"
   ]
  },
  {
   "cell_type": "code",
   "execution_count": 264,
   "metadata": {},
   "outputs": [
    {
     "data": {
      "text/html": [
       "<div>\n",
       "<style scoped>\n",
       "    .dataframe tbody tr th:only-of-type {\n",
       "        vertical-align: middle;\n",
       "    }\n",
       "\n",
       "    .dataframe tbody tr th {\n",
       "        vertical-align: top;\n",
       "    }\n",
       "\n",
       "    .dataframe thead th {\n",
       "        text-align: right;\n",
       "    }\n",
       "</style>\n",
       "<table border=\"1\" class=\"dataframe\">\n",
       "  <thead>\n",
       "    <tr style=\"text-align: right;\">\n",
       "      <th></th>\n",
       "      <th>delivery_id</th>\n",
       "      <th>delivery_order_id</th>\n",
       "      <th>driver_id</th>\n",
       "      <th>delivery_distance_meters</th>\n",
       "      <th>delivery_status</th>\n",
       "    </tr>\n",
       "  </thead>\n",
       "  <tbody>\n",
       "    <tr>\n",
       "      <th>26407</th>\n",
       "      <td>2237984</td>\n",
       "      <td>70525113</td>\n",
       "      <td>9584.0</td>\n",
       "      <td>101140.0</td>\n",
       "      <td>DELIVERED</td>\n",
       "    </tr>\n",
       "    <tr>\n",
       "      <th>26596</th>\n",
       "      <td>2238477</td>\n",
       "      <td>70525113</td>\n",
       "      <td>13879.0</td>\n",
       "      <td>101140.0</td>\n",
       "      <td>DELIVERED</td>\n",
       "    </tr>\n",
       "    <tr>\n",
       "      <th>371114</th>\n",
       "      <td>3074018</td>\n",
       "      <td>93024707</td>\n",
       "      <td>17457.0</td>\n",
       "      <td>246046.0</td>\n",
       "      <td>DELIVERED</td>\n",
       "    </tr>\n",
       "    <tr>\n",
       "      <th>291965</th>\n",
       "      <td>2879008</td>\n",
       "      <td>87472539</td>\n",
       "      <td>7480.0</td>\n",
       "      <td>256950.0</td>\n",
       "      <td>DELIVERED</td>\n",
       "    </tr>\n",
       "    <tr>\n",
       "      <th>276224</th>\n",
       "      <td>2842206</td>\n",
       "      <td>87472539</td>\n",
       "      <td>NaN</td>\n",
       "      <td>256950.0</td>\n",
       "      <td>DELIVERED</td>\n",
       "    </tr>\n",
       "    <tr>\n",
       "      <th>...</th>\n",
       "      <td>...</td>\n",
       "      <td>...</td>\n",
       "      <td>...</td>\n",
       "      <td>...</td>\n",
       "      <td>...</td>\n",
       "    </tr>\n",
       "    <tr>\n",
       "      <th>28085</th>\n",
       "      <td>2241893</td>\n",
       "      <td>70997380</td>\n",
       "      <td>NaN</td>\n",
       "      <td>7248376.0</td>\n",
       "      <td>DELIVERED</td>\n",
       "    </tr>\n",
       "    <tr>\n",
       "      <th>13140</th>\n",
       "      <td>2206199</td>\n",
       "      <td>69722644</td>\n",
       "      <td>NaN</td>\n",
       "      <td>7248655.0</td>\n",
       "      <td>CANCELLED</td>\n",
       "    </tr>\n",
       "    <tr>\n",
       "      <th>97729</th>\n",
       "      <td>2412974</td>\n",
       "      <td>76547702</td>\n",
       "      <td>NaN</td>\n",
       "      <td>7248655.0</td>\n",
       "      <td>CANCELLED</td>\n",
       "    </tr>\n",
       "    <tr>\n",
       "      <th>101403</th>\n",
       "      <td>2422149</td>\n",
       "      <td>76889808</td>\n",
       "      <td>15898.0</td>\n",
       "      <td>7251291.0</td>\n",
       "      <td>DELIVERED</td>\n",
       "    </tr>\n",
       "    <tr>\n",
       "      <th>109197</th>\n",
       "      <td>2441464</td>\n",
       "      <td>77469809</td>\n",
       "      <td>NaN</td>\n",
       "      <td>7251291.0</td>\n",
       "      <td>DELIVERED</td>\n",
       "    </tr>\n",
       "  </tbody>\n",
       "</table>\n",
       "<p>499 rows × 5 columns</p>\n",
       "</div>"
      ],
      "text/plain": [
       "        delivery_id  delivery_order_id  driver_id  delivery_distance_meters  \\\n",
       "26407       2237984           70525113     9584.0                  101140.0   \n",
       "26596       2238477           70525113    13879.0                  101140.0   \n",
       "371114      3074018           93024707    17457.0                  246046.0   \n",
       "291965      2879008           87472539     7480.0                  256950.0   \n",
       "276224      2842206           87472539        NaN                  256950.0   \n",
       "...             ...                ...        ...                       ...   \n",
       "28085       2241893           70997380        NaN                 7248376.0   \n",
       "13140       2206199           69722644        NaN                 7248655.0   \n",
       "97729       2412974           76547702        NaN                 7248655.0   \n",
       "101403      2422149           76889808    15898.0                 7251291.0   \n",
       "109197      2441464           77469809        NaN                 7251291.0   \n",
       "\n",
       "       delivery_status  \n",
       "26407        DELIVERED  \n",
       "26596        DELIVERED  \n",
       "371114       DELIVERED  \n",
       "291965       DELIVERED  \n",
       "276224       DELIVERED  \n",
       "...                ...  \n",
       "28085        DELIVERED  \n",
       "13140        CANCELLED  \n",
       "97729        CANCELLED  \n",
       "101403       DELIVERED  \n",
       "109197       DELIVERED  \n",
       "\n",
       "[499 rows x 5 columns]"
      ]
     },
     "execution_count": 264,
     "metadata": {},
     "output_type": "execute_result"
    }
   ],
   "source": [
    "deliveries.query(\"delivery_distance_meters > 100000\").sort_values(by = 'delivery_distance_meters')"
   ]
  },
  {
   "cell_type": "markdown",
   "metadata": {},
   "source": [
    "Existem algumas poucas entregas acima de 100km de distância, o que provavelmente já serão outliers que dificultarão nossa visão do todo"
   ]
  },
  {
   "cell_type": "code",
   "execution_count": 265,
   "metadata": {},
   "outputs": [
    {
     "data": {
      "image/png": "[encoded data removed]",
      "text/plain": [
       "<Figure size 640x480 with 1 Axes>"
      ]
     },
     "metadata": {},
     "output_type": "display_data"
    }
   ],
   "source": [
    "analise_deliveries = deliveries.dropna(subset = ['driver_id', 'delivery_distance_meters'])\n",
    "\n",
    "q1 = analise_deliveries['delivery_distance_meters'].quantile(0.25)\n",
    "q3 = analise_deliveries['delivery_distance_meters'].quantile(0.75)\n",
    "iqr = q3 - q1\n",
    "\n",
    "lower_bound = q1 - 1.5 * iqr\n",
    "upper_bound = q3 + 1.5 * iqr\n",
    "\n",
    "analise_sem_outliers = analise_deliveries[\n",
    "    (analise_deliveries['delivery_distance_meters'] >= lower_bound) & \n",
    "    (analise_deliveries['delivery_distance_meters'] <= upper_bound)\n",
    "]\n",
    "\n",
    "sns.boxplot(data=analise_sem_outliers, x=\"delivery_distance_meters\", color=\"c\")\n",
    "plt.show()\n"
   ]
  },
  {
   "cell_type": "code",
   "execution_count": 266,
   "metadata": {},
   "outputs": [
    {
     "data": {
      "text/plain": [
       "np.float64(0.26)"
      ]
     },
     "execution_count": 266,
     "metadata": {},
     "output_type": "execute_result"
    }
   ],
   "source": [
    "maiores100 = deliveries.nlargest(100, 'delivery_distance_meters')\n",
    "\n",
    "maiores100['delivery_status'].value_counts(normalize=True)['CANCELLED']"
   ]
  },
  {
   "cell_type": "markdown",
   "metadata": {},
   "source": [
    "Os pedidos de maior distância (100) tem uma chance 13x maior que o normal de ser cancelado\n"
   ]
  },
  {
   "cell_type": "code",
   "execution_count": 267,
   "metadata": {},
   "outputs": [
    {
     "data": {
      "text/html": [
       "<div>\n",
       "<style scoped>\n",
       "    .dataframe tbody tr th:only-of-type {\n",
       "        vertical-align: middle;\n",
       "    }\n",
       "\n",
       "    .dataframe tbody tr th {\n",
       "        vertical-align: top;\n",
       "    }\n",
       "\n",
       "    .dataframe thead th {\n",
       "        text-align: right;\n",
       "    }\n",
       "</style>\n",
       "<table border=\"1\" class=\"dataframe\">\n",
       "  <thead>\n",
       "    <tr style=\"text-align: right;\">\n",
       "      <th></th>\n",
       "      <th>Distâncias</th>\n",
       "      <th>Número de Driver = Null</th>\n",
       "      <th>Taxa de cancelamento</th>\n",
       "    </tr>\n",
       "  </thead>\n",
       "  <tbody>\n",
       "    <tr>\n",
       "      <th>0</th>\n",
       "      <td>Maiores 100</td>\n",
       "      <td>0.98</td>\n",
       "      <td>0.26</td>\n",
       "    </tr>\n",
       "    <tr>\n",
       "      <th>1</th>\n",
       "      <td>Maiores 1000</td>\n",
       "      <td>0.63</td>\n",
       "      <td>0.12</td>\n",
       "    </tr>\n",
       "    <tr>\n",
       "      <th>2</th>\n",
       "      <td>Média geral</td>\n",
       "      <td>0.04</td>\n",
       "      <td>0.02</td>\n",
       "    </tr>\n",
       "    <tr>\n",
       "      <th>3</th>\n",
       "      <td>Menores 1000</td>\n",
       "      <td>0.11</td>\n",
       "      <td>0.05</td>\n",
       "    </tr>\n",
       "    <tr>\n",
       "      <th>4</th>\n",
       "      <td>Menores 100</td>\n",
       "      <td>0.56</td>\n",
       "      <td>0.15</td>\n",
       "    </tr>\n",
       "  </tbody>\n",
       "</table>\n",
       "</div>"
      ],
      "text/plain": [
       "     Distâncias  Número de Driver = Null  Taxa de cancelamento\n",
       "0   Maiores 100                     0.98                  0.26\n",
       "1  Maiores 1000                     0.63                  0.12\n",
       "2   Média geral                     0.04                  0.02\n",
       "3  Menores 1000                     0.11                  0.05\n",
       "4   Menores 100                     0.56                  0.15"
      ]
     },
     "execution_count": 267,
     "metadata": {},
     "output_type": "execute_result"
    }
   ],
   "source": [
    "menores100 = deliveries.nsmallest(100, 'delivery_distance_meters')\n",
    "maiores1000 = deliveries.nlargest(1000, 'delivery_distance_meters')\n",
    "menores1000 = deliveries.nsmallest(1000, 'delivery_distance_meters')\n",
    "\n",
    "percentuais = [\n",
    "    ['Maiores 100', maiores100['driver_id'].isnull().mean().round(2), maiores100['delivery_status'].value_counts(normalize=True)['CANCELLED'].round(2)],\n",
    "    ['Maiores 1000', maiores1000['driver_id'].isnull().mean().round(2), maiores1000['delivery_status'].value_counts(normalize=True)['CANCELLED'].round(2)],\n",
    "    ['Média geral', deliveries['driver_id'].isnull().mean().round(2), deliveries['delivery_status'].value_counts(normalize=True)['CANCELLED'].round(2)],\n",
    "    ['Menores 1000', menores1000['driver_id'].isnull().mean().round(2), menores1000['delivery_status'].value_counts(normalize=True)['CANCELLED'].round(2)],\n",
    "    ['Menores 100', menores100['driver_id'].isnull().mean().round(2), menores100['delivery_status'].value_counts(normalize=True)['CANCELLED'].round(2)]\n",
    "]\n",
    "\n",
    "df = pd.DataFrame(percentuais, columns=['Distâncias', 'Número de Driver = Null', 'Taxa de cancelamento'])\n",
    "\n",
    "df"
   ]
  },
  {
   "cell_type": "markdown",
   "metadata": {},
   "source": [
    "O número dos driver_id nulos é muito grande perto das bordas, o que pode indicar que esse tipo de entrega seja diferente, possívelmente sem um entregador específico."
   ]
  },
  {
   "cell_type": "markdown",
   "metadata": {},
   "source": [
    "#### Drivers"
   ]
  },
  {
   "cell_type": "code",
   "execution_count": 268,
   "metadata": {},
   "outputs": [
    {
     "data": {
      "text/html": [
       "<div>\n",
       "<style scoped>\n",
       "    .dataframe tbody tr th:only-of-type {\n",
       "        vertical-align: middle;\n",
       "    }\n",
       "\n",
       "    .dataframe tbody tr th {\n",
       "        vertical-align: top;\n",
       "    }\n",
       "\n",
       "    .dataframe thead th {\n",
       "        text-align: right;\n",
       "    }\n",
       "</style>\n",
       "<table border=\"1\" class=\"dataframe\">\n",
       "  <thead>\n",
       "    <tr style=\"text-align: right;\">\n",
       "      <th></th>\n",
       "      <th>driver_id</th>\n",
       "      <th>driver_modal</th>\n",
       "      <th>driver_type</th>\n",
       "    </tr>\n",
       "  </thead>\n",
       "  <tbody>\n",
       "    <tr>\n",
       "      <th>0</th>\n",
       "      <td>133</td>\n",
       "      <td>MOTOBOY</td>\n",
       "      <td>LOGISTIC OPERATOR</td>\n",
       "    </tr>\n",
       "    <tr>\n",
       "      <th>1</th>\n",
       "      <td>138</td>\n",
       "      <td>MOTOBOY</td>\n",
       "      <td>FREELANCE</td>\n",
       "    </tr>\n",
       "    <tr>\n",
       "      <th>2</th>\n",
       "      <td>140</td>\n",
       "      <td>MOTOBOY</td>\n",
       "      <td>FREELANCE</td>\n",
       "    </tr>\n",
       "    <tr>\n",
       "      <th>3</th>\n",
       "      <td>143</td>\n",
       "      <td>BIKER</td>\n",
       "      <td>FREELANCE</td>\n",
       "    </tr>\n",
       "    <tr>\n",
       "      <th>4</th>\n",
       "      <td>148</td>\n",
       "      <td>MOTOBOY</td>\n",
       "      <td>FREELANCE</td>\n",
       "    </tr>\n",
       "  </tbody>\n",
       "</table>\n",
       "</div>"
      ],
      "text/plain": [
       "   driver_id driver_modal        driver_type\n",
       "0        133      MOTOBOY  LOGISTIC OPERATOR\n",
       "1        138      MOTOBOY          FREELANCE\n",
       "2        140      MOTOBOY          FREELANCE\n",
       "3        143        BIKER          FREELANCE\n",
       "4        148      MOTOBOY          FREELANCE"
      ]
     },
     "execution_count": 268,
     "metadata": {},
     "output_type": "execute_result"
    }
   ],
   "source": [
    "drivers.head()"
   ]
  },
  {
   "cell_type": "code",
   "execution_count": 269,
   "metadata": {},
   "outputs": [
    {
     "name": "stdout",
     "output_type": "stream",
     "text": [
      "<class 'pandas.core.frame.DataFrame'>\n",
      "RangeIndex: 4824 entries, 0 to 4823\n",
      "Data columns (total 3 columns):\n",
      " #   Column        Non-Null Count  Dtype \n",
      "---  ------        --------------  ----- \n",
      " 0   driver_id     4824 non-null   int64 \n",
      " 1   driver_modal  4824 non-null   object\n",
      " 2   driver_type   4824 non-null   object\n",
      "dtypes: int64(1), object(2)\n",
      "memory usage: 113.2+ KB\n"
     ]
    }
   ],
   "source": [
    "drivers.info()"
   ]
  },
  {
   "cell_type": "code",
   "execution_count": 270,
   "metadata": {},
   "outputs": [
    {
     "data": {
      "text/plain": [
       "np.int64(0)"
      ]
     },
     "execution_count": 270,
     "metadata": {},
     "output_type": "execute_result"
    }
   ],
   "source": [
    "drivers.duplicated().sum()"
   ]
  },
  {
   "cell_type": "code",
   "execution_count": 271,
   "metadata": {},
   "outputs": [
    {
     "data": {
      "text/plain": [
       "driver_modal\n",
       "MOTOBOY    0.66791\n",
       "BIKER      0.33209\n",
       "Name: proportion, dtype: float64"
      ]
     },
     "execution_count": 271,
     "metadata": {},
     "output_type": "execute_result"
    }
   ],
   "source": [
    "drivers.driver_modal.value_counts(normalize=True)"
   ]
  },
  {
   "cell_type": "code",
   "execution_count": 272,
   "metadata": {},
   "outputs": [
    {
     "data": {
      "text/plain": [
       "driver_type\n",
       "FREELANCE            0.816542\n",
       "LOGISTIC OPERATOR    0.183458\n",
       "Name: proportion, dtype: float64"
      ]
     },
     "execution_count": 272,
     "metadata": {},
     "output_type": "execute_result"
    }
   ],
   "source": [
    "drivers.driver_type.value_counts(normalize=True)"
   ]
  },
  {
   "cell_type": "markdown",
   "metadata": {},
   "source": [
    "#### Hub"
   ]
  },
  {
   "cell_type": "code",
   "execution_count": 273,
   "metadata": {},
   "outputs": [
    {
     "data": {
      "text/html": [
       "<div>\n",
       "<style scoped>\n",
       "    .dataframe tbody tr th:only-of-type {\n",
       "        vertical-align: middle;\n",
       "    }\n",
       "\n",
       "    .dataframe tbody tr th {\n",
       "        vertical-align: top;\n",
       "    }\n",
       "\n",
       "    .dataframe thead th {\n",
       "        text-align: right;\n",
       "    }\n",
       "</style>\n",
       "<table border=\"1\" class=\"dataframe\">\n",
       "  <thead>\n",
       "    <tr style=\"text-align: right;\">\n",
       "      <th></th>\n",
       "      <th>hub_id</th>\n",
       "      <th>hub_name</th>\n",
       "      <th>hub_city</th>\n",
       "      <th>hub_state</th>\n",
       "      <th>hub_latitude</th>\n",
       "      <th>hub_longitude</th>\n",
       "    </tr>\n",
       "  </thead>\n",
       "  <tbody>\n",
       "    <tr>\n",
       "      <th>0</th>\n",
       "      <td>2</td>\n",
       "      <td>BLUE SHOPPING</td>\n",
       "      <td>PORTO ALEGRE</td>\n",
       "      <td>RS</td>\n",
       "      <td>-30.047415</td>\n",
       "      <td>-51.213510</td>\n",
       "    </tr>\n",
       "    <tr>\n",
       "      <th>1</th>\n",
       "      <td>3</td>\n",
       "      <td>GREEN SHOPPING</td>\n",
       "      <td>PORTO ALEGRE</td>\n",
       "      <td>RS</td>\n",
       "      <td>-30.037415</td>\n",
       "      <td>-51.203520</td>\n",
       "    </tr>\n",
       "    <tr>\n",
       "      <th>2</th>\n",
       "      <td>4</td>\n",
       "      <td>RED SHOPPING</td>\n",
       "      <td>PORTO ALEGRE</td>\n",
       "      <td>RS</td>\n",
       "      <td>-30.021948</td>\n",
       "      <td>-51.208382</td>\n",
       "    </tr>\n",
       "    <tr>\n",
       "      <th>3</th>\n",
       "      <td>5</td>\n",
       "      <td>FUNK SHOPPING</td>\n",
       "      <td>RIO DE JANEIRO</td>\n",
       "      <td>RJ</td>\n",
       "      <td>-23.000750</td>\n",
       "      <td>-43.318282</td>\n",
       "    </tr>\n",
       "    <tr>\n",
       "      <th>4</th>\n",
       "      <td>8</td>\n",
       "      <td>GOLDEN SHOPPING</td>\n",
       "      <td>RIO DE JANEIRO</td>\n",
       "      <td>RJ</td>\n",
       "      <td>-22.921475</td>\n",
       "      <td>-43.234774</td>\n",
       "    </tr>\n",
       "  </tbody>\n",
       "</table>\n",
       "</div>"
      ],
      "text/plain": [
       "   hub_id         hub_name        hub_city hub_state  hub_latitude  \\\n",
       "0       2    BLUE SHOPPING    PORTO ALEGRE        RS    -30.047415   \n",
       "1       3   GREEN SHOPPING    PORTO ALEGRE        RS    -30.037415   \n",
       "2       4     RED SHOPPING    PORTO ALEGRE        RS    -30.021948   \n",
       "3       5    FUNK SHOPPING  RIO DE JANEIRO        RJ    -23.000750   \n",
       "4       8  GOLDEN SHOPPING  RIO DE JANEIRO        RJ    -22.921475   \n",
       "\n",
       "   hub_longitude  \n",
       "0     -51.213510  \n",
       "1     -51.203520  \n",
       "2     -51.208382  \n",
       "3     -43.318282  \n",
       "4     -43.234774  "
      ]
     },
     "execution_count": 273,
     "metadata": {},
     "output_type": "execute_result"
    }
   ],
   "source": [
    "hub.head()"
   ]
  },
  {
   "cell_type": "code",
   "execution_count": 274,
   "metadata": {},
   "outputs": [
    {
     "name": "stdout",
     "output_type": "stream",
     "text": [
      "<class 'pandas.core.frame.DataFrame'>\n",
      "RangeIndex: 32 entries, 0 to 31\n",
      "Data columns (total 6 columns):\n",
      " #   Column         Non-Null Count  Dtype  \n",
      "---  ------         --------------  -----  \n",
      " 0   hub_id         32 non-null     int64  \n",
      " 1   hub_name       32 non-null     object \n",
      " 2   hub_city       32 non-null     object \n",
      " 3   hub_state      32 non-null     object \n",
      " 4   hub_latitude   32 non-null     float64\n",
      " 5   hub_longitude  32 non-null     float64\n",
      "dtypes: float64(2), int64(1), object(3)\n",
      "memory usage: 1.6+ KB\n"
     ]
    },
    {
     "data": {
      "text/plain": [
       "array(['PORTO ALEGRE', 'RIO DE JANEIRO', 'SAO PAULO', 'CURITIBA'],\n",
       "      dtype=object)"
      ]
     },
     "execution_count": 274,
     "metadata": {},
     "output_type": "execute_result"
    }
   ],
   "source": [
    "hub.info()\n",
    "\n",
    "hub.hub_city.unique()"
   ]
  },
  {
   "cell_type": "code",
   "execution_count": 275,
   "metadata": {},
   "outputs": [
    {
     "data": {
      "text/plain": [
       "np.int64(0)"
      ]
     },
     "execution_count": 275,
     "metadata": {},
     "output_type": "execute_result"
    }
   ],
   "source": [
    "hub.duplicated().sum()"
   ]
  },
  {
   "cell_type": "code",
   "execution_count": 276,
   "metadata": {},
   "outputs": [
    {
     "data": {
      "text/plain": [
       "array(['RS', 'RJ', 'SP', 'PR'], dtype=object)"
      ]
     },
     "execution_count": 276,
     "metadata": {},
     "output_type": "execute_result"
    }
   ],
   "source": [
    "hub.hub_state.unique()"
   ]
  },
  {
   "cell_type": "markdown",
   "metadata": {},
   "source": [
    "Só existem 4 cidades, cada uma em um estado, e existem 32 hubs diferentes, cada um com sua id"
   ]
  },
  {
   "cell_type": "markdown",
   "metadata": {},
   "source": [
    "#### Orders"
   ]
  },
  {
   "cell_type": "code",
   "execution_count": 277,
   "metadata": {},
   "outputs": [
    {
     "data": {
      "text/html": [
       "<div>\n",
       "<style scoped>\n",
       "    .dataframe tbody tr th:only-of-type {\n",
       "        vertical-align: middle;\n",
       "    }\n",
       "\n",
       "    .dataframe tbody tr th {\n",
       "        vertical-align: top;\n",
       "    }\n",
       "\n",
       "    .dataframe thead th {\n",
       "        text-align: right;\n",
       "    }\n",
       "</style>\n",
       "<table border=\"1\" class=\"dataframe\">\n",
       "  <thead>\n",
       "    <tr style=\"text-align: right;\">\n",
       "      <th></th>\n",
       "      <th>order_id</th>\n",
       "      <th>store_id</th>\n",
       "      <th>channel_id</th>\n",
       "      <th>payment_order_id</th>\n",
       "      <th>delivery_order_id</th>\n",
       "      <th>order_status</th>\n",
       "      <th>order_amount</th>\n",
       "      <th>order_delivery_fee</th>\n",
       "      <th>order_delivery_cost</th>\n",
       "      <th>order_created_hour</th>\n",
       "      <th>...</th>\n",
       "      <th>order_moment_delivering</th>\n",
       "      <th>order_moment_delivered</th>\n",
       "      <th>order_moment_finished</th>\n",
       "      <th>order_metric_collected_time</th>\n",
       "      <th>order_metric_paused_time</th>\n",
       "      <th>order_metric_production_time</th>\n",
       "      <th>order_metric_walking_time</th>\n",
       "      <th>order_metric_expediton_speed_time</th>\n",
       "      <th>order_metric_transit_time</th>\n",
       "      <th>order_metric_cycle_time</th>\n",
       "    </tr>\n",
       "  </thead>\n",
       "  <tbody>\n",
       "    <tr>\n",
       "      <th>0</th>\n",
       "      <td>68405119</td>\n",
       "      <td>3512</td>\n",
       "      <td>5</td>\n",
       "      <td>68405119</td>\n",
       "      <td>68405119</td>\n",
       "      <td>CANCELED</td>\n",
       "      <td>62.7</td>\n",
       "      <td>0.0</td>\n",
       "      <td>NaN</td>\n",
       "      <td>0</td>\n",
       "      <td>...</td>\n",
       "      <td>NaN</td>\n",
       "      <td>NaN</td>\n",
       "      <td>NaN</td>\n",
       "      <td>NaN</td>\n",
       "      <td>NaN</td>\n",
       "      <td>NaN</td>\n",
       "      <td>NaN</td>\n",
       "      <td>NaN</td>\n",
       "      <td>NaN</td>\n",
       "      <td>NaN</td>\n",
       "    </tr>\n",
       "    <tr>\n",
       "      <th>1</th>\n",
       "      <td>68405123</td>\n",
       "      <td>3512</td>\n",
       "      <td>5</td>\n",
       "      <td>68405123</td>\n",
       "      <td>68405123</td>\n",
       "      <td>CANCELED</td>\n",
       "      <td>62.7</td>\n",
       "      <td>0.0</td>\n",
       "      <td>NaN</td>\n",
       "      <td>0</td>\n",
       "      <td>...</td>\n",
       "      <td>NaN</td>\n",
       "      <td>NaN</td>\n",
       "      <td>NaN</td>\n",
       "      <td>NaN</td>\n",
       "      <td>NaN</td>\n",
       "      <td>NaN</td>\n",
       "      <td>NaN</td>\n",
       "      <td>NaN</td>\n",
       "      <td>NaN</td>\n",
       "      <td>NaN</td>\n",
       "    </tr>\n",
       "    <tr>\n",
       "      <th>2</th>\n",
       "      <td>68405206</td>\n",
       "      <td>3512</td>\n",
       "      <td>5</td>\n",
       "      <td>68405206</td>\n",
       "      <td>68405206</td>\n",
       "      <td>CANCELED</td>\n",
       "      <td>115.5</td>\n",
       "      <td>0.0</td>\n",
       "      <td>NaN</td>\n",
       "      <td>0</td>\n",
       "      <td>...</td>\n",
       "      <td>NaN</td>\n",
       "      <td>NaN</td>\n",
       "      <td>NaN</td>\n",
       "      <td>NaN</td>\n",
       "      <td>NaN</td>\n",
       "      <td>NaN</td>\n",
       "      <td>NaN</td>\n",
       "      <td>NaN</td>\n",
       "      <td>NaN</td>\n",
       "      <td>NaN</td>\n",
       "    </tr>\n",
       "    <tr>\n",
       "      <th>3</th>\n",
       "      <td>68405465</td>\n",
       "      <td>3401</td>\n",
       "      <td>5</td>\n",
       "      <td>68405465</td>\n",
       "      <td>68405465</td>\n",
       "      <td>CANCELED</td>\n",
       "      <td>55.9</td>\n",
       "      <td>0.0</td>\n",
       "      <td>NaN</td>\n",
       "      <td>0</td>\n",
       "      <td>...</td>\n",
       "      <td>NaN</td>\n",
       "      <td>NaN</td>\n",
       "      <td>NaN</td>\n",
       "      <td>NaN</td>\n",
       "      <td>NaN</td>\n",
       "      <td>NaN</td>\n",
       "      <td>NaN</td>\n",
       "      <td>NaN</td>\n",
       "      <td>NaN</td>\n",
       "      <td>NaN</td>\n",
       "    </tr>\n",
       "    <tr>\n",
       "      <th>4</th>\n",
       "      <td>68406064</td>\n",
       "      <td>3401</td>\n",
       "      <td>5</td>\n",
       "      <td>68406064</td>\n",
       "      <td>68406064</td>\n",
       "      <td>CANCELED</td>\n",
       "      <td>37.9</td>\n",
       "      <td>0.0</td>\n",
       "      <td>NaN</td>\n",
       "      <td>0</td>\n",
       "      <td>...</td>\n",
       "      <td>NaN</td>\n",
       "      <td>NaN</td>\n",
       "      <td>NaN</td>\n",
       "      <td>NaN</td>\n",
       "      <td>NaN</td>\n",
       "      <td>NaN</td>\n",
       "      <td>NaN</td>\n",
       "      <td>NaN</td>\n",
       "      <td>NaN</td>\n",
       "      <td>NaN</td>\n",
       "    </tr>\n",
       "  </tbody>\n",
       "</table>\n",
       "<p>5 rows × 29 columns</p>\n",
       "</div>"
      ],
      "text/plain": [
       "   order_id  store_id  channel_id  payment_order_id  delivery_order_id  \\\n",
       "0  68405119      3512           5          68405119           68405119   \n",
       "1  68405123      3512           5          68405123           68405123   \n",
       "2  68405206      3512           5          68405206           68405206   \n",
       "3  68405465      3401           5          68405465           68405465   \n",
       "4  68406064      3401           5          68406064           68406064   \n",
       "\n",
       "  order_status  order_amount  order_delivery_fee  order_delivery_cost  \\\n",
       "0     CANCELED          62.7                 0.0                  NaN   \n",
       "1     CANCELED          62.7                 0.0                  NaN   \n",
       "2     CANCELED         115.5                 0.0                  NaN   \n",
       "3     CANCELED          55.9                 0.0                  NaN   \n",
       "4     CANCELED          37.9                 0.0                  NaN   \n",
       "\n",
       "   order_created_hour  ...  order_moment_delivering  order_moment_delivered  \\\n",
       "0                   0  ...                      NaN                     NaN   \n",
       "1                   0  ...                      NaN                     NaN   \n",
       "2                   0  ...                      NaN                     NaN   \n",
       "3                   0  ...                      NaN                     NaN   \n",
       "4                   0  ...                      NaN                     NaN   \n",
       "\n",
       "   order_moment_finished  order_metric_collected_time  \\\n",
       "0                    NaN                          NaN   \n",
       "1                    NaN                          NaN   \n",
       "2                    NaN                          NaN   \n",
       "3                    NaN                          NaN   \n",
       "4                    NaN                          NaN   \n",
       "\n",
       "  order_metric_paused_time order_metric_production_time  \\\n",
       "0                      NaN                          NaN   \n",
       "1                      NaN                          NaN   \n",
       "2                      NaN                          NaN   \n",
       "3                      NaN                          NaN   \n",
       "4                      NaN                          NaN   \n",
       "\n",
       "  order_metric_walking_time order_metric_expediton_speed_time  \\\n",
       "0                       NaN                               NaN   \n",
       "1                       NaN                               NaN   \n",
       "2                       NaN                               NaN   \n",
       "3                       NaN                               NaN   \n",
       "4                       NaN                               NaN   \n",
       "\n",
       "  order_metric_transit_time order_metric_cycle_time  \n",
       "0                       NaN                     NaN  \n",
       "1                       NaN                     NaN  \n",
       "2                       NaN                     NaN  \n",
       "3                       NaN                     NaN  \n",
       "4                       NaN                     NaN  \n",
       "\n",
       "[5 rows x 29 columns]"
      ]
     },
     "execution_count": 277,
     "metadata": {},
     "output_type": "execute_result"
    }
   ],
   "source": [
    "orders.head()"
   ]
  },
  {
   "cell_type": "code",
   "execution_count": 278,
   "metadata": {},
   "outputs": [
    {
     "data": {
      "text/plain": [
       "Index(['order_id', 'store_id', 'channel_id', 'payment_order_id',\n",
       "       'delivery_order_id', 'order_status', 'order_amount',\n",
       "       'order_delivery_fee', 'order_delivery_cost', 'order_created_hour',\n",
       "       'order_created_minute', 'order_created_day', 'order_created_month',\n",
       "       'order_created_year', 'order_moment_created', 'order_moment_accepted',\n",
       "       'order_moment_ready', 'order_moment_collected',\n",
       "       'order_moment_in_expedition', 'order_moment_delivering',\n",
       "       'order_moment_delivered', 'order_moment_finished',\n",
       "       'order_metric_collected_time', 'order_metric_paused_time',\n",
       "       'order_metric_production_time', 'order_metric_walking_time',\n",
       "       'order_metric_expediton_speed_time', 'order_metric_transit_time',\n",
       "       'order_metric_cycle_time'],\n",
       "      dtype='object')"
      ]
     },
     "execution_count": 278,
     "metadata": {},
     "output_type": "execute_result"
    }
   ],
   "source": [
    "orders.columns"
   ]
  },
  {
   "cell_type": "code",
   "execution_count": 279,
   "metadata": {},
   "outputs": [
    {
     "data": {
      "text/html": [
       "<div>\n",
       "<style scoped>\n",
       "    .dataframe tbody tr th:only-of-type {\n",
       "        vertical-align: middle;\n",
       "    }\n",
       "\n",
       "    .dataframe tbody tr th {\n",
       "        vertical-align: top;\n",
       "    }\n",
       "\n",
       "    .dataframe thead th {\n",
       "        text-align: right;\n",
       "    }\n",
       "</style>\n",
       "<table border=\"1\" class=\"dataframe\">\n",
       "  <thead>\n",
       "    <tr style=\"text-align: right;\">\n",
       "      <th></th>\n",
       "      <th>order_id</th>\n",
       "      <th>store_id</th>\n",
       "      <th>channel_id</th>\n",
       "      <th>payment_order_id</th>\n",
       "      <th>delivery_order_id</th>\n",
       "      <th>order_status</th>\n",
       "      <th>order_amount</th>\n",
       "      <th>order_delivery_fee</th>\n",
       "      <th>order_delivery_cost</th>\n",
       "      <th>order_created_hour</th>\n",
       "      <th>...</th>\n",
       "      <th>order_moment_delivering</th>\n",
       "      <th>order_moment_delivered</th>\n",
       "      <th>order_moment_finished</th>\n",
       "      <th>order_metric_collected_time</th>\n",
       "      <th>order_metric_paused_time</th>\n",
       "      <th>order_metric_production_time</th>\n",
       "      <th>order_metric_walking_time</th>\n",
       "      <th>order_metric_expediton_speed_time</th>\n",
       "      <th>order_metric_transit_time</th>\n",
       "      <th>order_metric_cycle_time</th>\n",
       "    </tr>\n",
       "  </thead>\n",
       "  <tbody>\n",
       "    <tr>\n",
       "      <th>368994</th>\n",
       "      <td>93139806</td>\n",
       "      <td>2074</td>\n",
       "      <td>5</td>\n",
       "      <td>93139806</td>\n",
       "      <td>93139806</td>\n",
       "      <td>FINISHED</td>\n",
       "      <td>28.0</td>\n",
       "      <td>0.0</td>\n",
       "      <td>0.00</td>\n",
       "      <td>23</td>\n",
       "      <td>...</td>\n",
       "      <td>5/1/2021 12:44:39 AM</td>\n",
       "      <td>NaN</td>\n",
       "      <td>5/1/2021 1:08:04 AM</td>\n",
       "      <td>0.67</td>\n",
       "      <td>18.33</td>\n",
       "      <td>22.00</td>\n",
       "      <td>4.80</td>\n",
       "      <td>23.13</td>\n",
       "      <td>23.42</td>\n",
       "      <td>68.53</td>\n",
       "    </tr>\n",
       "    <tr>\n",
       "      <th>368995</th>\n",
       "      <td>93139809</td>\n",
       "      <td>707</td>\n",
       "      <td>5</td>\n",
       "      <td>93139809</td>\n",
       "      <td>93139809</td>\n",
       "      <td>FINISHED</td>\n",
       "      <td>49.0</td>\n",
       "      <td>11.9</td>\n",
       "      <td>10.04</td>\n",
       "      <td>23</td>\n",
       "      <td>...</td>\n",
       "      <td>5/1/2021 12:36:36 AM</td>\n",
       "      <td>NaN</td>\n",
       "      <td>5/1/2021 12:57:16 AM</td>\n",
       "      <td>1.42</td>\n",
       "      <td>3.48</td>\n",
       "      <td>27.32</td>\n",
       "      <td>6.13</td>\n",
       "      <td>9.62</td>\n",
       "      <td>20.67</td>\n",
       "      <td>57.60</td>\n",
       "    </tr>\n",
       "    <tr>\n",
       "      <th>368996</th>\n",
       "      <td>93139813</td>\n",
       "      <td>631</td>\n",
       "      <td>5</td>\n",
       "      <td>93139813</td>\n",
       "      <td>93139813</td>\n",
       "      <td>FINISHED</td>\n",
       "      <td>128.7</td>\n",
       "      <td>11.9</td>\n",
       "      <td>9.29</td>\n",
       "      <td>23</td>\n",
       "      <td>...</td>\n",
       "      <td>5/1/2021 12:47:47 AM</td>\n",
       "      <td>NaN</td>\n",
       "      <td>5/1/2021 1:05:20 AM</td>\n",
       "      <td>11.72</td>\n",
       "      <td>6.38</td>\n",
       "      <td>29.97</td>\n",
       "      <td>11.75</td>\n",
       "      <td>18.13</td>\n",
       "      <td>17.55</td>\n",
       "      <td>65.65</td>\n",
       "    </tr>\n",
       "    <tr>\n",
       "      <th>368997</th>\n",
       "      <td>93139814</td>\n",
       "      <td>631</td>\n",
       "      <td>5</td>\n",
       "      <td>93139814</td>\n",
       "      <td>93139814</td>\n",
       "      <td>FINISHED</td>\n",
       "      <td>127.4</td>\n",
       "      <td>11.9</td>\n",
       "      <td>5.00</td>\n",
       "      <td>23</td>\n",
       "      <td>...</td>\n",
       "      <td>5/1/2021 12:31:50 AM</td>\n",
       "      <td>NaN</td>\n",
       "      <td>5/1/2021 12:45:00 AM</td>\n",
       "      <td>NaN</td>\n",
       "      <td>NaN</td>\n",
       "      <td>30.27</td>\n",
       "      <td>NaN</td>\n",
       "      <td>1.88</td>\n",
       "      <td>13.17</td>\n",
       "      <td>45.32</td>\n",
       "    </tr>\n",
       "    <tr>\n",
       "      <th>368998</th>\n",
       "      <td>93139817</td>\n",
       "      <td>236</td>\n",
       "      <td>5</td>\n",
       "      <td>93139817</td>\n",
       "      <td>93139817</td>\n",
       "      <td>FINISHED</td>\n",
       "      <td>104.7</td>\n",
       "      <td>11.9</td>\n",
       "      <td>10.67</td>\n",
       "      <td>23</td>\n",
       "      <td>...</td>\n",
       "      <td>5/1/2021 12:26:24 AM</td>\n",
       "      <td>NaN</td>\n",
       "      <td>5/1/2021 12:47:31 AM</td>\n",
       "      <td>NaN</td>\n",
       "      <td>NaN</td>\n",
       "      <td>16.33</td>\n",
       "      <td>NaN</td>\n",
       "      <td>10.27</td>\n",
       "      <td>21.12</td>\n",
       "      <td>47.72</td>\n",
       "    </tr>\n",
       "  </tbody>\n",
       "</table>\n",
       "<p>5 rows × 29 columns</p>\n",
       "</div>"
      ],
      "text/plain": [
       "        order_id  store_id  channel_id  payment_order_id  delivery_order_id  \\\n",
       "368994  93139806      2074           5          93139806           93139806   \n",
       "368995  93139809       707           5          93139809           93139809   \n",
       "368996  93139813       631           5          93139813           93139813   \n",
       "368997  93139814       631           5          93139814           93139814   \n",
       "368998  93139817       236           5          93139817           93139817   \n",
       "\n",
       "       order_status  order_amount  order_delivery_fee  order_delivery_cost  \\\n",
       "368994     FINISHED          28.0                 0.0                 0.00   \n",
       "368995     FINISHED          49.0                11.9                10.04   \n",
       "368996     FINISHED         128.7                11.9                 9.29   \n",
       "368997     FINISHED         127.4                11.9                 5.00   \n",
       "368998     FINISHED         104.7                11.9                10.67   \n",
       "\n",
       "        order_created_hour  ...  order_moment_delivering  \\\n",
       "368994                  23  ...     5/1/2021 12:44:39 AM   \n",
       "368995                  23  ...     5/1/2021 12:36:36 AM   \n",
       "368996                  23  ...     5/1/2021 12:47:47 AM   \n",
       "368997                  23  ...     5/1/2021 12:31:50 AM   \n",
       "368998                  23  ...     5/1/2021 12:26:24 AM   \n",
       "\n",
       "        order_moment_delivered  order_moment_finished  \\\n",
       "368994                     NaN    5/1/2021 1:08:04 AM   \n",
       "368995                     NaN   5/1/2021 12:57:16 AM   \n",
       "368996                     NaN    5/1/2021 1:05:20 AM   \n",
       "368997                     NaN   5/1/2021 12:45:00 AM   \n",
       "368998                     NaN   5/1/2021 12:47:31 AM   \n",
       "\n",
       "        order_metric_collected_time order_metric_paused_time  \\\n",
       "368994                         0.67                    18.33   \n",
       "368995                         1.42                     3.48   \n",
       "368996                        11.72                     6.38   \n",
       "368997                          NaN                      NaN   \n",
       "368998                          NaN                      NaN   \n",
       "\n",
       "       order_metric_production_time order_metric_walking_time  \\\n",
       "368994                        22.00                      4.80   \n",
       "368995                        27.32                      6.13   \n",
       "368996                        29.97                     11.75   \n",
       "368997                        30.27                       NaN   \n",
       "368998                        16.33                       NaN   \n",
       "\n",
       "       order_metric_expediton_speed_time order_metric_transit_time  \\\n",
       "368994                             23.13                     23.42   \n",
       "368995                              9.62                     20.67   \n",
       "368996                             18.13                     17.55   \n",
       "368997                              1.88                     13.17   \n",
       "368998                             10.27                     21.12   \n",
       "\n",
       "       order_metric_cycle_time  \n",
       "368994                   68.53  \n",
       "368995                   57.60  \n",
       "368996                   65.65  \n",
       "368997                   45.32  \n",
       "368998                   47.72  \n",
       "\n",
       "[5 rows x 29 columns]"
      ]
     },
     "execution_count": 279,
     "metadata": {},
     "output_type": "execute_result"
    }
   ],
   "source": [
    "orders.tail()"
   ]
  },
  {
   "cell_type": "code",
   "execution_count": 280,
   "metadata": {},
   "outputs": [
    {
     "data": {
      "text/plain": [
       "order_status\n",
       "FINISHED    0.953986\n",
       "CANCELED    0.046014\n",
       "Name: proportion, dtype: float64"
      ]
     },
     "execution_count": 280,
     "metadata": {},
     "output_type": "execute_result"
    }
   ],
   "source": [
    "orders.order_status.value_counts(normalize=True)"
   ]
  },
  {
   "cell_type": "code",
   "execution_count": 281,
   "metadata": {},
   "outputs": [
    {
     "data": {
      "text/html": [
       "<div>\n",
       "<style scoped>\n",
       "    .dataframe tbody tr th:only-of-type {\n",
       "        vertical-align: middle;\n",
       "    }\n",
       "\n",
       "    .dataframe tbody tr th {\n",
       "        vertical-align: top;\n",
       "    }\n",
       "\n",
       "    .dataframe thead th {\n",
       "        text-align: right;\n",
       "    }\n",
       "</style>\n",
       "<table border=\"1\" class=\"dataframe\">\n",
       "  <thead>\n",
       "    <tr style=\"text-align: right;\">\n",
       "      <th></th>\n",
       "      <th>order_amount</th>\n",
       "      <th>order_delivery_fee</th>\n",
       "      <th>order_delivery_cost</th>\n",
       "    </tr>\n",
       "  </thead>\n",
       "  <tbody>\n",
       "    <tr>\n",
       "      <th>count</th>\n",
       "      <td>368999.00</td>\n",
       "      <td>368999.00</td>\n",
       "      <td>361794.00</td>\n",
       "    </tr>\n",
       "    <tr>\n",
       "      <th>mean</th>\n",
       "      <td>105.15</td>\n",
       "      <td>6.18</td>\n",
       "      <td>7.29</td>\n",
       "    </tr>\n",
       "    <tr>\n",
       "      <th>std</th>\n",
       "      <td>2953.11</td>\n",
       "      <td>6.22</td>\n",
       "      <td>4.08</td>\n",
       "    </tr>\n",
       "    <tr>\n",
       "      <th>min</th>\n",
       "      <td>0.00</td>\n",
       "      <td>0.00</td>\n",
       "      <td>0.00</td>\n",
       "    </tr>\n",
       "    <tr>\n",
       "      <th>25%</th>\n",
       "      <td>39.90</td>\n",
       "      <td>0.00</td>\n",
       "      <td>5.16</td>\n",
       "    </tr>\n",
       "    <tr>\n",
       "      <th>50%</th>\n",
       "      <td>71.60</td>\n",
       "      <td>6.90</td>\n",
       "      <td>7.19</td>\n",
       "    </tr>\n",
       "    <tr>\n",
       "      <th>75%</th>\n",
       "      <td>121.90</td>\n",
       "      <td>11.90</td>\n",
       "      <td>8.72</td>\n",
       "    </tr>\n",
       "    <tr>\n",
       "      <th>max</th>\n",
       "      <td>1788306.11</td>\n",
       "      <td>990.11</td>\n",
       "      <td>156.00</td>\n",
       "    </tr>\n",
       "  </tbody>\n",
       "</table>\n",
       "</div>"
      ],
      "text/plain": [
       "       order_amount  order_delivery_fee  order_delivery_cost\n",
       "count     368999.00           368999.00            361794.00\n",
       "mean         105.15                6.18                 7.29\n",
       "std         2953.11                6.22                 4.08\n",
       "min            0.00                0.00                 0.00\n",
       "25%           39.90                0.00                 5.16\n",
       "50%           71.60                6.90                 7.19\n",
       "75%          121.90               11.90                 8.72\n",
       "max      1788306.11              990.11               156.00"
      ]
     },
     "execution_count": 281,
     "metadata": {},
     "output_type": "execute_result"
    }
   ],
   "source": [
    "orders[['order_amount', 'order_delivery_fee', 'order_delivery_cost']].describe().round(2)"
   ]
  },
  {
   "cell_type": "code",
   "execution_count": 282,
   "metadata": {},
   "outputs": [
    {
     "data": {
      "text/html": [
       "<div>\n",
       "<style scoped>\n",
       "    .dataframe tbody tr th:only-of-type {\n",
       "        vertical-align: middle;\n",
       "    }\n",
       "\n",
       "    .dataframe tbody tr th {\n",
       "        vertical-align: top;\n",
       "    }\n",
       "\n",
       "    .dataframe thead th {\n",
       "        text-align: right;\n",
       "    }\n",
       "</style>\n",
       "<table border=\"1\" class=\"dataframe\">\n",
       "  <thead>\n",
       "    <tr style=\"text-align: right;\">\n",
       "      <th></th>\n",
       "      <th>order_amount</th>\n",
       "      <th>order_status</th>\n",
       "    </tr>\n",
       "  </thead>\n",
       "  <tbody>\n",
       "    <tr>\n",
       "      <th>136801</th>\n",
       "      <td>1003.32</td>\n",
       "      <td>FINISHED</td>\n",
       "    </tr>\n",
       "    <tr>\n",
       "      <th>310825</th>\n",
       "      <td>1003.80</td>\n",
       "      <td>FINISHED</td>\n",
       "    </tr>\n",
       "    <tr>\n",
       "      <th>333974</th>\n",
       "      <td>1006.47</td>\n",
       "      <td>FINISHED</td>\n",
       "    </tr>\n",
       "    <tr>\n",
       "      <th>238872</th>\n",
       "      <td>1006.70</td>\n",
       "      <td>FINISHED</td>\n",
       "    </tr>\n",
       "    <tr>\n",
       "      <th>189441</th>\n",
       "      <td>1007.25</td>\n",
       "      <td>FINISHED</td>\n",
       "    </tr>\n",
       "    <tr>\n",
       "      <th>...</th>\n",
       "      <td>...</td>\n",
       "      <td>...</td>\n",
       "    </tr>\n",
       "    <tr>\n",
       "      <th>263818</th>\n",
       "      <td>19320.00</td>\n",
       "      <td>CANCELED</td>\n",
       "    </tr>\n",
       "    <tr>\n",
       "      <th>255465</th>\n",
       "      <td>20000.00</td>\n",
       "      <td>FINISHED</td>\n",
       "    </tr>\n",
       "    <tr>\n",
       "      <th>255517</th>\n",
       "      <td>25000.00</td>\n",
       "      <td>FINISHED</td>\n",
       "    </tr>\n",
       "    <tr>\n",
       "      <th>366536</th>\n",
       "      <td>100000.11</td>\n",
       "      <td>FINISHED</td>\n",
       "    </tr>\n",
       "    <tr>\n",
       "      <th>203067</th>\n",
       "      <td>1788306.11</td>\n",
       "      <td>CANCELED</td>\n",
       "    </tr>\n",
       "  </tbody>\n",
       "</table>\n",
       "<p>779 rows × 2 columns</p>\n",
       "</div>"
      ],
      "text/plain": [
       "        order_amount order_status\n",
       "136801       1003.32     FINISHED\n",
       "310825       1003.80     FINISHED\n",
       "333974       1006.47     FINISHED\n",
       "238872       1006.70     FINISHED\n",
       "189441       1007.25     FINISHED\n",
       "...              ...          ...\n",
       "263818      19320.00     CANCELED\n",
       "255465      20000.00     FINISHED\n",
       "255517      25000.00     FINISHED\n",
       "366536     100000.11     FINISHED\n",
       "203067    1788306.11     CANCELED\n",
       "\n",
       "[779 rows x 2 columns]"
      ]
     },
     "execution_count": 282,
     "metadata": {},
     "output_type": "execute_result"
    }
   ],
   "source": [
    "orders.query(\"order_amount > 1000\")[[\"order_amount\",\"order_status\"]].sort_values(by = \"order_amount\" )"
   ]
  },
  {
   "cell_type": "code",
   "execution_count": 283,
   "metadata": {},
   "outputs": [
    {
     "data": {
      "text/plain": [
       "order_status\n",
       "FINISHED    0.93\n",
       "CANCELED    0.07\n",
       "Name: proportion, dtype: float64"
      ]
     },
     "execution_count": 283,
     "metadata": {},
     "output_type": "execute_result"
    }
   ],
   "source": [
    "maiores100 = orders.nlargest(100, \"order_amount\")\n",
    "maiores100['order_status'].value_counts(normalize=True)"
   ]
  },
  {
   "cell_type": "code",
   "execution_count": 284,
   "metadata": {},
   "outputs": [
    {
     "data": {
      "text/plain": [
       "order_status\n",
       "FINISHED    0.95\n",
       "CANCELED    0.05\n",
       "Name: proportion, dtype: float64"
      ]
     },
     "execution_count": 284,
     "metadata": {},
     "output_type": "execute_result"
    }
   ],
   "source": [
    "orders['order_status'].value_counts(normalize=True).round(2)"
   ]
  },
  {
   "cell_type": "markdown",
   "metadata": {},
   "source": [
    "#### Payments"
   ]
  },
  {
   "cell_type": "code",
   "execution_count": 285,
   "metadata": {},
   "outputs": [
    {
     "data": {
      "text/html": [
       "<div>\n",
       "<style scoped>\n",
       "    .dataframe tbody tr th:only-of-type {\n",
       "        vertical-align: middle;\n",
       "    }\n",
       "\n",
       "    .dataframe tbody tr th {\n",
       "        vertical-align: top;\n",
       "    }\n",
       "\n",
       "    .dataframe thead th {\n",
       "        text-align: right;\n",
       "    }\n",
       "</style>\n",
       "<table border=\"1\" class=\"dataframe\">\n",
       "  <thead>\n",
       "    <tr style=\"text-align: right;\">\n",
       "      <th></th>\n",
       "      <th>payment_id</th>\n",
       "      <th>payment_order_id</th>\n",
       "      <th>payment_amount</th>\n",
       "      <th>payment_fee</th>\n",
       "      <th>payment_method</th>\n",
       "      <th>payment_status</th>\n",
       "    </tr>\n",
       "  </thead>\n",
       "  <tbody>\n",
       "    <tr>\n",
       "      <th>0</th>\n",
       "      <td>4427917</td>\n",
       "      <td>68410055</td>\n",
       "      <td>118.44</td>\n",
       "      <td>0.00</td>\n",
       "      <td>VOUCHER</td>\n",
       "      <td>PAID</td>\n",
       "    </tr>\n",
       "    <tr>\n",
       "      <th>1</th>\n",
       "      <td>4427918</td>\n",
       "      <td>68410055</td>\n",
       "      <td>394.81</td>\n",
       "      <td>7.90</td>\n",
       "      <td>ONLINE</td>\n",
       "      <td>PAID</td>\n",
       "    </tr>\n",
       "    <tr>\n",
       "      <th>2</th>\n",
       "      <td>4427941</td>\n",
       "      <td>68412721</td>\n",
       "      <td>206.95</td>\n",
       "      <td>5.59</td>\n",
       "      <td>ONLINE</td>\n",
       "      <td>PAID</td>\n",
       "    </tr>\n",
       "    <tr>\n",
       "      <th>3</th>\n",
       "      <td>4427948</td>\n",
       "      <td>68413340</td>\n",
       "      <td>58.80</td>\n",
       "      <td>1.59</td>\n",
       "      <td>ONLINE</td>\n",
       "      <td>PAID</td>\n",
       "    </tr>\n",
       "    <tr>\n",
       "      <th>4</th>\n",
       "      <td>4427955</td>\n",
       "      <td>68414018</td>\n",
       "      <td>45.80</td>\n",
       "      <td>0.92</td>\n",
       "      <td>ONLINE</td>\n",
       "      <td>PAID</td>\n",
       "    </tr>\n",
       "  </tbody>\n",
       "</table>\n",
       "</div>"
      ],
      "text/plain": [
       "   payment_id  payment_order_id  payment_amount  payment_fee payment_method  \\\n",
       "0     4427917          68410055          118.44         0.00        VOUCHER   \n",
       "1     4427918          68410055          394.81         7.90         ONLINE   \n",
       "2     4427941          68412721          206.95         5.59         ONLINE   \n",
       "3     4427948          68413340           58.80         1.59         ONLINE   \n",
       "4     4427955          68414018           45.80         0.92         ONLINE   \n",
       "\n",
       "  payment_status  \n",
       "0           PAID  \n",
       "1           PAID  \n",
       "2           PAID  \n",
       "3           PAID  \n",
       "4           PAID  "
      ]
     },
     "execution_count": 285,
     "metadata": {},
     "output_type": "execute_result"
    }
   ],
   "source": [
    "payments.head()"
   ]
  },
  {
   "cell_type": "code",
   "execution_count": 286,
   "metadata": {},
   "outputs": [
    {
     "name": "stdout",
     "output_type": "stream",
     "text": [
      "<class 'pandas.core.frame.DataFrame'>\n",
      "RangeIndex: 400834 entries, 0 to 400833\n",
      "Data columns (total 6 columns):\n",
      " #   Column            Non-Null Count   Dtype  \n",
      "---  ------            --------------   -----  \n",
      " 0   payment_id        400834 non-null  int64  \n",
      " 1   payment_order_id  400834 non-null  int64  \n",
      " 2   payment_amount    400834 non-null  float64\n",
      " 3   payment_fee       400659 non-null  float64\n",
      " 4   payment_method    400834 non-null  object \n",
      " 5   payment_status    400834 non-null  object \n",
      "dtypes: float64(2), int64(2), object(2)\n",
      "memory usage: 18.3+ MB\n"
     ]
    }
   ],
   "source": [
    "payments.info()"
   ]
  },
  {
   "cell_type": "code",
   "execution_count": 287,
   "metadata": {},
   "outputs": [
    {
     "name": "stdout",
     "output_type": "stream",
     "text": [
      "A perda de dados de receita entre os dfs de orders e payments é de 0.47%\n"
     ]
    }
   ],
   "source": [
    "query_fineshed = orders.query('order_status == \"FINISHED\"') \n",
    "sum_order_amount = query_fineshed['order_amount'].sum() + query_fineshed['order_delivery_fee'].sum()\n",
    "query_paid = payments.query('payment_status == \"PAID\"') \n",
    "sum_payment_amount= query_paid['payment_amount'].sum()\n",
    "\n",
    "dif_amount = ((sum_order_amount - sum_payment_amount)/sum_payment_amount*100)\n",
    "\n",
    "print(f'A perda de dados de receita entre os dfs de orders e payments é de {dif_amount:.2f}%')"
   ]
  },
  {
   "cell_type": "code",
   "execution_count": 288,
   "metadata": {},
   "outputs": [
    {
     "data": {
      "text/plain": [
       "payment_method\n",
       "BANK_TRANSFER_DC            1.112233\n",
       "CREDIT                      1.524190\n",
       "CREDIT_STORE                2.258411\n",
       "DEBIT                       0.994317\n",
       "DEBIT_STORE                 1.456460\n",
       "INSTALLMENT_CREDIT_STORE    9.916460\n",
       "MEAL_BENEFIT                0.000000\n",
       "MONEY                       0.500403\n",
       "ONLINE                      2.170466\n",
       "PAYMENT_LINK                2.125375\n",
       "STORE_DIRECT_PAYMENT        5.468755\n",
       "VOUCHER                     0.000000\n",
       "VOUCHER_DC                  0.700497\n",
       "VOUCHER_OL                  0.695130\n",
       "VOUCHER_STORE               2.859780\n",
       "Name: payment_fee, dtype: float64"
      ]
     },
     "execution_count": 288,
     "metadata": {},
     "output_type": "execute_result"
    }
   ],
   "source": [
    "payments.groupby('payment_method')['payment_fee'].mean()"
   ]
  },
  {
   "cell_type": "code",
   "execution_count": 289,
   "metadata": {},
   "outputs": [
    {
     "data": {
      "text/plain": [
       "payment_status\n",
       "PAID          400381\n",
       "CHARGEBACK       438\n",
       "AWAITING          15\n",
       "Name: count, dtype: int64"
      ]
     },
     "execution_count": 289,
     "metadata": {},
     "output_type": "execute_result"
    }
   ],
   "source": [
    "payments.payment_status.value_counts()"
   ]
  },
  {
   "cell_type": "code",
   "execution_count": 290,
   "metadata": {},
   "outputs": [
    {
     "data": {
      "image/png": "[encoded data removed]",
      "text/plain": [
       "<Figure size 640x480 with 1 Axes>"
      ]
     },
     "metadata": {},
     "output_type": "display_data"
    }
   ],
   "source": [
    "q1 = payments['payment_amount'].quantile(0.25)\n",
    "q3 = payments['payment_amount'].quantile(0.75)\n",
    "iqr = q3 - q1\n",
    "\n",
    "lower_bound = q1 - 1.5 * iqr\n",
    "upper_bound = q3 + 1.5 * iqr\n",
    "\n",
    "payments_sem_outiliers = payments[\n",
    "    (payments['payment_amount'] >= lower_bound) & \n",
    "    (payments['payment_amount'] <= upper_bound)\n",
    "]\n",
    "\n",
    "\n",
    "sns.boxplot(data=payments_sem_outiliers, x=\"payment_amount\", color=\"c\")\n",
    "plt.show()"
   ]
  },
  {
   "cell_type": "markdown",
   "metadata": {},
   "source": [
    "#### Stores"
   ]
  },
  {
   "cell_type": "code",
   "execution_count": 291,
   "metadata": {},
   "outputs": [
    {
     "data": {
      "text/html": [
       "<div>\n",
       "<style scoped>\n",
       "    .dataframe tbody tr th:only-of-type {\n",
       "        vertical-align: middle;\n",
       "    }\n",
       "\n",
       "    .dataframe tbody tr th {\n",
       "        vertical-align: top;\n",
       "    }\n",
       "\n",
       "    .dataframe thead th {\n",
       "        text-align: right;\n",
       "    }\n",
       "</style>\n",
       "<table border=\"1\" class=\"dataframe\">\n",
       "  <thead>\n",
       "    <tr style=\"text-align: right;\">\n",
       "      <th></th>\n",
       "      <th>store_id</th>\n",
       "      <th>hub_id</th>\n",
       "      <th>store_name</th>\n",
       "      <th>store_segment</th>\n",
       "      <th>store_plan_price</th>\n",
       "      <th>store_latitude</th>\n",
       "      <th>store_longitude</th>\n",
       "    </tr>\n",
       "  </thead>\n",
       "  <tbody>\n",
       "    <tr>\n",
       "      <th>0</th>\n",
       "      <td>3</td>\n",
       "      <td>2</td>\n",
       "      <td>CUMIURI</td>\n",
       "      <td>FOOD</td>\n",
       "      <td>0.0</td>\n",
       "      <td>NaN</td>\n",
       "      <td>NaN</td>\n",
       "    </tr>\n",
       "    <tr>\n",
       "      <th>1</th>\n",
       "      <td>6</td>\n",
       "      <td>3</td>\n",
       "      <td>PIMGUCIS DA VIVA</td>\n",
       "      <td>FOOD</td>\n",
       "      <td>0.0</td>\n",
       "      <td>-30.037415</td>\n",
       "      <td>-51.203520</td>\n",
       "    </tr>\n",
       "    <tr>\n",
       "      <th>2</th>\n",
       "      <td>8</td>\n",
       "      <td>3</td>\n",
       "      <td>RASMUR S</td>\n",
       "      <td>FOOD</td>\n",
       "      <td>0.0</td>\n",
       "      <td>-30.037415</td>\n",
       "      <td>-51.203520</td>\n",
       "    </tr>\n",
       "    <tr>\n",
       "      <th>3</th>\n",
       "      <td>53</td>\n",
       "      <td>8</td>\n",
       "      <td>PAPA SUCIS</td>\n",
       "      <td>FOOD</td>\n",
       "      <td>0.0</td>\n",
       "      <td>-22.921475</td>\n",
       "      <td>-43.234822</td>\n",
       "    </tr>\n",
       "    <tr>\n",
       "      <th>4</th>\n",
       "      <td>54</td>\n",
       "      <td>8</td>\n",
       "      <td>VUZPI PAZZIS</td>\n",
       "      <td>FOOD</td>\n",
       "      <td>0.0</td>\n",
       "      <td>-22.921475</td>\n",
       "      <td>-43.234822</td>\n",
       "    </tr>\n",
       "  </tbody>\n",
       "</table>\n",
       "</div>"
      ],
      "text/plain": [
       "   store_id  hub_id         store_name store_segment  store_plan_price  \\\n",
       "0         3       2            CUMIURI          FOOD               0.0   \n",
       "1         6       3  PIMGUCIS DA VIVA           FOOD               0.0   \n",
       "2         8       3          RASMUR S           FOOD               0.0   \n",
       "3        53       8        PAPA SUCIS           FOOD               0.0   \n",
       "4        54       8      VUZPI PAZZIS           FOOD               0.0   \n",
       "\n",
       "   store_latitude  store_longitude  \n",
       "0             NaN              NaN  \n",
       "1      -30.037415       -51.203520  \n",
       "2      -30.037415       -51.203520  \n",
       "3      -22.921475       -43.234822  \n",
       "4      -22.921475       -43.234822  "
      ]
     },
     "execution_count": 291,
     "metadata": {},
     "output_type": "execute_result"
    }
   ],
   "source": [
    "stores.head()"
   ]
  },
  {
   "cell_type": "code",
   "execution_count": 292,
   "metadata": {},
   "outputs": [
    {
     "name": "stdout",
     "output_type": "stream",
     "text": [
      "<class 'pandas.core.frame.DataFrame'>\n",
      "RangeIndex: 951 entries, 0 to 950\n",
      "Data columns (total 7 columns):\n",
      " #   Column            Non-Null Count  Dtype  \n",
      "---  ------            --------------  -----  \n",
      " 0   store_id          951 non-null    int64  \n",
      " 1   hub_id            951 non-null    int64  \n",
      " 2   store_name        951 non-null    object \n",
      " 3   store_segment     951 non-null    object \n",
      " 4   store_plan_price  836 non-null    float64\n",
      " 5   store_latitude    935 non-null    float64\n",
      " 6   store_longitude   935 non-null    float64\n",
      "dtypes: float64(3), int64(2), object(2)\n",
      "memory usage: 52.1+ KB\n"
     ]
    }
   ],
   "source": [
    "stores.info()"
   ]
  },
  {
   "cell_type": "code",
   "execution_count": 293,
   "metadata": {},
   "outputs": [
    {
     "data": {
      "text/plain": [
       "store_plan_price\n",
       "29.00    252\n",
       "29.90    177\n",
       "49.00    173\n",
       "49.90    159\n",
       "0.00      62\n",
       "1.00       7\n",
       "0.01       3\n",
       "29.29      1\n",
       "19.90      1\n",
       "39.00      1\n",
       "Name: count, dtype: int64"
      ]
     },
     "execution_count": 293,
     "metadata": {},
     "output_type": "execute_result"
    }
   ],
   "source": [
    "stores.store_plan_price.value_counts()"
   ]
  },
  {
   "cell_type": "code",
   "execution_count": 294,
   "metadata": {},
   "outputs": [
    {
     "data": {
      "text/plain": [
       "store_segment\n",
       "GOOD    567\n",
       "FOOD    384\n",
       "Name: count, dtype: int64"
      ]
     },
     "execution_count": 294,
     "metadata": {},
     "output_type": "execute_result"
    }
   ],
   "source": [
    "stores.store_segment.value_counts()"
   ]
  },
  {
   "cell_type": "markdown",
   "metadata": {},
   "source": [
    "## Demandas"
   ]
  },
  {
   "cell_type": "markdown",
   "metadata": {},
   "source": [
    "### Numa ação de marketing, para atrair mais entregadores, vamos dar uma bonificação para os 20 entregadores que possuem maior distância percorrida ao todo. A bonificação vai variar de acordo com o tipo de profissional que ele é e o modelo que ele usa para se locomover."
   ]
  },
  {
   "cell_type": "code",
   "execution_count": 295,
   "metadata": {},
   "outputs": [
    {
     "name": "stdout",
     "output_type": "stream",
     "text": [
      "Os tipos de profissionais que tem em driver_type são LOGISTIC OPERATOR e FREELANCE enquanto os modelos de locomoção driver_modal são MOTOBOY e BIKER\n"
     ]
    }
   ],
   "source": [
    "print(f'Os tipos de profissionais que tem em driver_type são {drivers.driver_type.unique()[0]} e {drivers.driver_type.unique()[1]} enquanto os modelos de locomoção driver_modal são {drivers.driver_modal.unique()[0]} e {drivers.driver_modal.unique()[1]}')"
   ]
  },
  {
   "cell_type": "code",
   "execution_count": 296,
   "metadata": {},
   "outputs": [],
   "source": [
    "query_mot = deliveries.query(\"delivery_status == 'DELIVERED'\")\n",
    "\n",
    "distancia_ttl_motoristas = query_mot.groupby('driver_id')['delivery_distance_meters'].sum()\n",
    "\n",
    "distancia_ttl_motoristas = pd.DataFrame(distancia_ttl_motoristas)"
   ]
  },
  {
   "cell_type": "markdown",
   "metadata": {},
   "source": [
    "Verifiquei que existem 191 casos onde há distância percorrido mesmo com o pedido for cancelado, e que possuem um driver_id atrelado.\n",
    "\n",
    "Para resolver esse problema e o de entregas que estão sendo realizadas no momento, para esse problema considerarei apenas entregas já realizadas."
   ]
  },
  {
   "cell_type": "code",
   "execution_count": 297,
   "metadata": {},
   "outputs": [
    {
     "data": {
      "text/html": [
       "<div>\n",
       "<style scoped>\n",
       "    .dataframe tbody tr th:only-of-type {\n",
       "        vertical-align: middle;\n",
       "    }\n",
       "\n",
       "    .dataframe tbody tr th {\n",
       "        vertical-align: top;\n",
       "    }\n",
       "\n",
       "    .dataframe thead th {\n",
       "        text-align: right;\n",
       "    }\n",
       "</style>\n",
       "<table border=\"1\" class=\"dataframe\">\n",
       "  <thead>\n",
       "    <tr style=\"text-align: right;\">\n",
       "      <th></th>\n",
       "      <th>Motorista</th>\n",
       "      <th>Distância total</th>\n",
       "      <th>Modelo</th>\n",
       "      <th>Contrato</th>\n",
       "    </tr>\n",
       "  </thead>\n",
       "  <tbody>\n",
       "    <tr>\n",
       "      <th>2044</th>\n",
       "      <td>26223.0</td>\n",
       "      <td>60402511.0</td>\n",
       "      <td>MOTOBOY</td>\n",
       "      <td>LOGISTIC OPERATOR</td>\n",
       "    </tr>\n",
       "    <tr>\n",
       "      <th>1990</th>\n",
       "      <td>25651.0</td>\n",
       "      <td>32455861.0</td>\n",
       "      <td>MOTOBOY</td>\n",
       "      <td>LOGISTIC OPERATOR</td>\n",
       "    </tr>\n",
       "    <tr>\n",
       "      <th>1378</th>\n",
       "      <td>15898.0</td>\n",
       "      <td>8209339.0</td>\n",
       "      <td>MOTOBOY</td>\n",
       "      <td>LOGISTIC OPERATOR</td>\n",
       "    </tr>\n",
       "    <tr>\n",
       "      <th>1511</th>\n",
       "      <td>17749.0</td>\n",
       "      <td>8060048.0</td>\n",
       "      <td>MOTOBOY</td>\n",
       "      <td>FREELANCE</td>\n",
       "    </tr>\n",
       "    <tr>\n",
       "      <th>114</th>\n",
       "      <td>731.0</td>\n",
       "      <td>7199476.0</td>\n",
       "      <td>MOTOBOY</td>\n",
       "      <td>FREELANCE</td>\n",
       "    </tr>\n",
       "    <tr>\n",
       "      <th>2457</th>\n",
       "      <td>31023.0</td>\n",
       "      <td>6075223.0</td>\n",
       "      <td>MOTOBOY</td>\n",
       "      <td>FREELANCE</td>\n",
       "    </tr>\n",
       "    <tr>\n",
       "      <th>3261</th>\n",
       "      <td>42146.0</td>\n",
       "      <td>4845699.0</td>\n",
       "      <td>MOTOBOY</td>\n",
       "      <td>FREELANCE</td>\n",
       "    </tr>\n",
       "    <tr>\n",
       "      <th>1057</th>\n",
       "      <td>11063.0</td>\n",
       "      <td>4829062.0</td>\n",
       "      <td>MOTOBOY</td>\n",
       "      <td>FREELANCE</td>\n",
       "    </tr>\n",
       "    <tr>\n",
       "      <th>1265</th>\n",
       "      <td>14136.0</td>\n",
       "      <td>4320123.0</td>\n",
       "      <td>MOTOBOY</td>\n",
       "      <td>FREELANCE</td>\n",
       "    </tr>\n",
       "    <tr>\n",
       "      <th>61</th>\n",
       "      <td>464.0</td>\n",
       "      <td>4247096.0</td>\n",
       "      <td>MOTOBOY</td>\n",
       "      <td>LOGISTIC OPERATOR</td>\n",
       "    </tr>\n",
       "    <tr>\n",
       "      <th>715</th>\n",
       "      <td>7451.0</td>\n",
       "      <td>3553855.0</td>\n",
       "      <td>MOTOBOY</td>\n",
       "      <td>FREELANCE</td>\n",
       "    </tr>\n",
       "    <tr>\n",
       "      <th>751</th>\n",
       "      <td>7754.0</td>\n",
       "      <td>3407461.0</td>\n",
       "      <td>MOTOBOY</td>\n",
       "      <td>FREELANCE</td>\n",
       "    </tr>\n",
       "    <tr>\n",
       "      <th>734</th>\n",
       "      <td>7615.0</td>\n",
       "      <td>3280119.0</td>\n",
       "      <td>MOTOBOY</td>\n",
       "      <td>LOGISTIC OPERATOR</td>\n",
       "    </tr>\n",
       "    <tr>\n",
       "      <th>905</th>\n",
       "      <td>9509.0</td>\n",
       "      <td>3208578.0</td>\n",
       "      <td>MOTOBOY</td>\n",
       "      <td>FREELANCE</td>\n",
       "    </tr>\n",
       "    <tr>\n",
       "      <th>431</th>\n",
       "      <td>4737.0</td>\n",
       "      <td>3188623.0</td>\n",
       "      <td>MOTOBOY</td>\n",
       "      <td>LOGISTIC OPERATOR</td>\n",
       "    </tr>\n",
       "    <tr>\n",
       "      <th>2080</th>\n",
       "      <td>26536.0</td>\n",
       "      <td>3165958.0</td>\n",
       "      <td>MOTOBOY</td>\n",
       "      <td>FREELANCE</td>\n",
       "    </tr>\n",
       "    <tr>\n",
       "      <th>729</th>\n",
       "      <td>7549.0</td>\n",
       "      <td>3101595.0</td>\n",
       "      <td>MOTOBOY</td>\n",
       "      <td>LOGISTIC OPERATOR</td>\n",
       "    </tr>\n",
       "    <tr>\n",
       "      <th>1359</th>\n",
       "      <td>15561.0</td>\n",
       "      <td>3085248.0</td>\n",
       "      <td>MOTOBOY</td>\n",
       "      <td>FREELANCE</td>\n",
       "    </tr>\n",
       "    <tr>\n",
       "      <th>3007</th>\n",
       "      <td>38694.0</td>\n",
       "      <td>2997522.0</td>\n",
       "      <td>MOTOBOY</td>\n",
       "      <td>LOGISTIC OPERATOR</td>\n",
       "    </tr>\n",
       "    <tr>\n",
       "      <th>935</th>\n",
       "      <td>9806.0</td>\n",
       "      <td>2965842.0</td>\n",
       "      <td>MOTOBOY</td>\n",
       "      <td>LOGISTIC OPERATOR</td>\n",
       "    </tr>\n",
       "  </tbody>\n",
       "</table>\n",
       "</div>"
      ],
      "text/plain": [
       "      Motorista  Distância total   Modelo           Contrato\n",
       "2044    26223.0       60402511.0  MOTOBOY  LOGISTIC OPERATOR\n",
       "1990    25651.0       32455861.0  MOTOBOY  LOGISTIC OPERATOR\n",
       "1378    15898.0        8209339.0  MOTOBOY  LOGISTIC OPERATOR\n",
       "1511    17749.0        8060048.0  MOTOBOY          FREELANCE\n",
       "114       731.0        7199476.0  MOTOBOY          FREELANCE\n",
       "2457    31023.0        6075223.0  MOTOBOY          FREELANCE\n",
       "3261    42146.0        4845699.0  MOTOBOY          FREELANCE\n",
       "1057    11063.0        4829062.0  MOTOBOY          FREELANCE\n",
       "1265    14136.0        4320123.0  MOTOBOY          FREELANCE\n",
       "61        464.0        4247096.0  MOTOBOY  LOGISTIC OPERATOR\n",
       "715      7451.0        3553855.0  MOTOBOY          FREELANCE\n",
       "751      7754.0        3407461.0  MOTOBOY          FREELANCE\n",
       "734      7615.0        3280119.0  MOTOBOY  LOGISTIC OPERATOR\n",
       "905      9509.0        3208578.0  MOTOBOY          FREELANCE\n",
       "431      4737.0        3188623.0  MOTOBOY  LOGISTIC OPERATOR\n",
       "2080    26536.0        3165958.0  MOTOBOY          FREELANCE\n",
       "729      7549.0        3101595.0  MOTOBOY  LOGISTIC OPERATOR\n",
       "1359    15561.0        3085248.0  MOTOBOY          FREELANCE\n",
       "3007    38694.0        2997522.0  MOTOBOY  LOGISTIC OPERATOR\n",
       "935      9806.0        2965842.0  MOTOBOY  LOGISTIC OPERATOR"
      ]
     },
     "execution_count": 297,
     "metadata": {},
     "output_type": "execute_result"
    }
   ],
   "source": [
    "ttl_motoristas_categorizados = distancia_ttl_motoristas.merge(drivers, on='driver_id',how='left')\n",
    "\n",
    "ttl_motoristas_categorizados.rename(columns={'driver_id':'Motorista'},inplace=True)\n",
    "ttl_motoristas_categorizados.rename(columns={'delivery_distance_meters':'Distância total'},inplace=True)\n",
    "ttl_motoristas_categorizados.rename(columns={'driver_modal':'Modelo'},inplace=True)\n",
    "ttl_motoristas_categorizados.rename(columns={'driver_type':'Contrato'},inplace=True)\n",
    "\n",
    "motoristas_premiados = ttl_motoristas_categorizados.nlargest(20,'Distância total')\n",
    "\n",
    "motoristas_premiados"
   ]
  },
  {
   "cell_type": "markdown",
   "metadata": {},
   "source": [
    "Para ajudar na escolha, trago visualizações adicionais"
   ]
  },
  {
   "cell_type": "code",
   "execution_count": 298,
   "metadata": {},
   "outputs": [
    {
     "data": {
      "text/plain": [
       "Text(0.5, 1.0, 'Distância percorrida por categorias')"
      ]
     },
     "execution_count": 298,
     "metadata": {},
     "output_type": "execute_result"
    },
    {
     "data": {
      "image/png": "[encoded data removed]",
      "text/plain": [
       "<Figure size 640x480 with 1 Axes>"
      ]
     },
     "metadata": {},
     "output_type": "display_data"
    }
   ],
   "source": [
    "media_dist_perco = pd.DataFrame(ttl_motoristas_categorizados.groupby(['Modelo','Contrato'])['Distância total'].mean())\n",
    "\n",
    "sns.barplot(data= media_dist_perco, x='Modelo', y='Distância total',hue='Contrato',palette=\"mako\").set_title('Distância percorrida por categorias')"
   ]
  },
  {
   "cell_type": "code",
   "execution_count": 299,
   "metadata": {},
   "outputs": [
    {
     "data": {
      "text/html": [
       "<div>\n",
       "<style scoped>\n",
       "    .dataframe tbody tr th:only-of-type {\n",
       "        vertical-align: middle;\n",
       "    }\n",
       "\n",
       "    .dataframe tbody tr th {\n",
       "        vertical-align: top;\n",
       "    }\n",
       "\n",
       "    .dataframe thead th {\n",
       "        text-align: right;\n",
       "    }\n",
       "</style>\n",
       "<table border=\"1\" class=\"dataframe\">\n",
       "  <thead>\n",
       "    <tr style=\"text-align: right;\">\n",
       "      <th></th>\n",
       "      <th>Motorista</th>\n",
       "      <th>Distância total</th>\n",
       "      <th>Modelo</th>\n",
       "      <th>Contrato</th>\n",
       "    </tr>\n",
       "  </thead>\n",
       "  <tbody>\n",
       "    <tr>\n",
       "      <th>2599</th>\n",
       "      <td>32843.0</td>\n",
       "      <td>32572.0</td>\n",
       "      <td>BIKER</td>\n",
       "      <td>LOGISTIC OPERATOR</td>\n",
       "    </tr>\n",
       "  </tbody>\n",
       "</table>\n",
       "</div>"
      ],
      "text/plain": [
       "      Motorista  Distância total Modelo           Contrato\n",
       "2599    32843.0          32572.0  BIKER  LOGISTIC OPERATOR"
      ]
     },
     "execution_count": 299,
     "metadata": {},
     "output_type": "execute_result"
    }
   ],
   "source": [
    "ttl_motoristas_categorizados.query(\"Contrato == 'LOGISTIC OPERATOR' and Modelo =='BIKER'\")"
   ]
  },
  {
   "cell_type": "markdown",
   "metadata": {},
   "source": [
    "Há apenas um entregador que é contratado e utiliza de bicicleta"
   ]
  },
  {
   "cell_type": "code",
   "execution_count": 300,
   "metadata": {},
   "outputs": [
    {
     "data": {
      "image/png": "[encoded data removed]",
      "text/plain": [
       "<Figure size 640x480 with 1 Axes>"
      ]
     },
     "metadata": {},
     "output_type": "display_data"
    }
   ],
   "source": [
    "motoboy_distancia = ttl_motoristas_categorizados.query(\"Modelo == 'MOTOBOY'\")\n",
    "\n",
    "q1 = motoboy_distancia['Distância total'].quantile(0.25)\n",
    "q3 = motoboy_distancia['Distância total'].quantile(0.75)\n",
    "iqr = q3 - q1\n",
    "\n",
    "lower_bound = q1 - 1.5 * iqr\n",
    "upper_bound = q3 + 1.5 * iqr\n",
    "\n",
    "motoristas_sem_outliers = motoboy_distancia[\n",
    "    (motoboy_distancia['Distância total'] >= lower_bound) & \n",
    "    (motoboy_distancia['Distância total'] <= upper_bound)\n",
    "]\n",
    "\n",
    "\n",
    "sns.violinplot(data=motoristas_sem_outliers,x='Modelo', y='Distância total',hue='Contrato',palette=\"mako\",\n",
    "               split=True, inner=\"quart\", fill=False).set_title('Distribuição de distância percorrida por motoboys')\n",
    "\n",
    "plt.show()"
   ]
  },
  {
   "cell_type": "code",
   "execution_count": 301,
   "metadata": {},
   "outputs": [
    {
     "data": {
      "text/html": [
       "<div>\n",
       "<style scoped>\n",
       "    .dataframe tbody tr th:only-of-type {\n",
       "        vertical-align: middle;\n",
       "    }\n",
       "\n",
       "    .dataframe tbody tr th {\n",
       "        vertical-align: top;\n",
       "    }\n",
       "\n",
       "    .dataframe thead th {\n",
       "        text-align: right;\n",
       "    }\n",
       "</style>\n",
       "<table border=\"1\" class=\"dataframe\">\n",
       "  <thead>\n",
       "    <tr style=\"text-align: right;\">\n",
       "      <th></th>\n",
       "      <th>driver_id</th>\n",
       "      <th>delivery_distance_meters</th>\n",
       "      <th>delivery_order_id</th>\n",
       "      <th>store_id</th>\n",
       "      <th>hub_id</th>\n",
       "      <th>hub_state</th>\n",
       "    </tr>\n",
       "  </thead>\n",
       "  <tbody>\n",
       "    <tr>\n",
       "      <th>0</th>\n",
       "      <td>8378.0</td>\n",
       "      <td>5199.0</td>\n",
       "      <td>68413340</td>\n",
       "      <td>631</td>\n",
       "      <td>28</td>\n",
       "      <td>SP</td>\n",
       "    </tr>\n",
       "    <tr>\n",
       "      <th>1</th>\n",
       "      <td>2473.0</td>\n",
       "      <td>410.0</td>\n",
       "      <td>68414309</td>\n",
       "      <td>236</td>\n",
       "      <td>13</td>\n",
       "      <td>RJ</td>\n",
       "    </tr>\n",
       "    <tr>\n",
       "      <th>2</th>\n",
       "      <td>7615.0</td>\n",
       "      <td>3784.0</td>\n",
       "      <td>68416230</td>\n",
       "      <td>1016</td>\n",
       "      <td>36</td>\n",
       "      <td>RS</td>\n",
       "    </tr>\n",
       "    <tr>\n",
       "      <th>3</th>\n",
       "      <td>8378.0</td>\n",
       "      <td>5714.0</td>\n",
       "      <td>68412721</td>\n",
       "      <td>631</td>\n",
       "      <td>28</td>\n",
       "      <td>SP</td>\n",
       "    </tr>\n",
       "    <tr>\n",
       "      <th>4</th>\n",
       "      <td>10463.0</td>\n",
       "      <td>3746.0</td>\n",
       "      <td>68414018</td>\n",
       "      <td>3265</td>\n",
       "      <td>37</td>\n",
       "      <td>SP</td>\n",
       "    </tr>\n",
       "    <tr>\n",
       "      <th>...</th>\n",
       "      <td>...</td>\n",
       "      <td>...</td>\n",
       "      <td>...</td>\n",
       "      <td>...</td>\n",
       "      <td>...</td>\n",
       "      <td>...</td>\n",
       "    </tr>\n",
       "    <tr>\n",
       "      <th>371362</th>\n",
       "      <td>7615.0</td>\n",
       "      <td>8110.0</td>\n",
       "      <td>87083078</td>\n",
       "      <td>1093</td>\n",
       "      <td>36</td>\n",
       "      <td>RS</td>\n",
       "    </tr>\n",
       "    <tr>\n",
       "      <th>371363</th>\n",
       "      <td>26223.0</td>\n",
       "      <td>14454.0</td>\n",
       "      <td>87660079</td>\n",
       "      <td>657</td>\n",
       "      <td>21</td>\n",
       "      <td>SP</td>\n",
       "    </tr>\n",
       "    <tr>\n",
       "      <th>371364</th>\n",
       "      <td>55429.0</td>\n",
       "      <td>2546.0</td>\n",
       "      <td>82340127</td>\n",
       "      <td>435</td>\n",
       "      <td>16</td>\n",
       "      <td>RJ</td>\n",
       "    </tr>\n",
       "    <tr>\n",
       "      <th>371365</th>\n",
       "      <td>47016.0</td>\n",
       "      <td>3106.0</td>\n",
       "      <td>88586792</td>\n",
       "      <td>2112</td>\n",
       "      <td>51</td>\n",
       "      <td>RJ</td>\n",
       "    </tr>\n",
       "    <tr>\n",
       "      <th>371366</th>\n",
       "      <td>10504.0</td>\n",
       "      <td>2919.0</td>\n",
       "      <td>93026454</td>\n",
       "      <td>53</td>\n",
       "      <td>8</td>\n",
       "      <td>RJ</td>\n",
       "    </tr>\n",
       "  </tbody>\n",
       "</table>\n",
       "<p>371367 rows × 6 columns</p>\n",
       "</div>"
      ],
      "text/plain": [
       "        driver_id  delivery_distance_meters  delivery_order_id  store_id  \\\n",
       "0          8378.0                    5199.0           68413340       631   \n",
       "1          2473.0                     410.0           68414309       236   \n",
       "2          7615.0                    3784.0           68416230      1016   \n",
       "3          8378.0                    5714.0           68412721       631   \n",
       "4         10463.0                    3746.0           68414018      3265   \n",
       "...           ...                       ...                ...       ...   \n",
       "371362     7615.0                    8110.0           87083078      1093   \n",
       "371363    26223.0                   14454.0           87660079       657   \n",
       "371364    55429.0                    2546.0           82340127       435   \n",
       "371365    47016.0                    3106.0           88586792      2112   \n",
       "371366    10504.0                    2919.0           93026454        53   \n",
       "\n",
       "        hub_id hub_state  \n",
       "0           28        SP  \n",
       "1           13        RJ  \n",
       "2           36        RS  \n",
       "3           28        SP  \n",
       "4           37        SP  \n",
       "...        ...       ...  \n",
       "371362      36        RS  \n",
       "371363      21        SP  \n",
       "371364      16        RJ  \n",
       "371365      51        RJ  \n",
       "371366       8        RJ  \n",
       "\n",
       "[371367 rows x 6 columns]"
      ]
     },
     "execution_count": 301,
     "metadata": {},
     "output_type": "execute_result"
    }
   ],
   "source": [
    "tab1 = query_mot[['driver_id','delivery_distance_meters','delivery_order_id']]\n",
    "tab2 = orders[['delivery_order_id','store_id']]\n",
    "tab3 = stores[['store_id','hub_id']]\n",
    "tab4 = hub[['hub_id','hub_state']]\n",
    "\n",
    "tab_a = tab1.merge(tab2, on='delivery_order_id', how='left')\n",
    "tab_b = tab_a.merge(tab3, on='store_id', how='left')\n",
    "tab_c = tab_b.merge(tab4, on='hub_id',how='left')\n",
    "\n",
    "tab_c\n",
    "\n",
    "distancia_media_por_estado = pd.DataFrame(tab_c.groupby('hub_state')['delivery_distance_meters'].mean().round())\n",
    "distancia_media_por_estado.rename(columns={'delivery_distance_meters':'Distância Média'}, inplace=True)\n",
    "distancia_media_por_estado.index.name = 'Estado'\n",
    "distancia_media_por_estado = distancia_media_por_estado.sort_values(by = 'Distância Média', ascending=False)\n",
    "\n",
    "tab_c"
   ]
  },
  {
   "cell_type": "code",
   "execution_count": 302,
   "metadata": {},
   "outputs": [
    {
     "data": {
      "text/html": [
       "<div>\n",
       "<style scoped>\n",
       "    .dataframe tbody tr th:only-of-type {\n",
       "        vertical-align: middle;\n",
       "    }\n",
       "\n",
       "    .dataframe tbody tr th {\n",
       "        vertical-align: top;\n",
       "    }\n",
       "\n",
       "    .dataframe thead th {\n",
       "        text-align: right;\n",
       "    }\n",
       "</style>\n",
       "<table border=\"1\" class=\"dataframe\">\n",
       "  <thead>\n",
       "    <tr style=\"text-align: right;\">\n",
       "      <th></th>\n",
       "      <th>Distância Média</th>\n",
       "    </tr>\n",
       "    <tr>\n",
       "      <th>Estado</th>\n",
       "      <th></th>\n",
       "    </tr>\n",
       "  </thead>\n",
       "  <tbody>\n",
       "    <tr>\n",
       "      <th>PR</th>\n",
       "      <td>15037.0</td>\n",
       "    </tr>\n",
       "    <tr>\n",
       "      <th>SP</th>\n",
       "      <td>14624.0</td>\n",
       "    </tr>\n",
       "    <tr>\n",
       "      <th>RJ</th>\n",
       "      <td>4311.0</td>\n",
       "    </tr>\n",
       "    <tr>\n",
       "      <th>RS</th>\n",
       "      <td>4123.0</td>\n",
       "    </tr>\n",
       "  </tbody>\n",
       "</table>\n",
       "</div>"
      ],
      "text/plain": [
       "        Distância Média\n",
       "Estado                 \n",
       "PR              15037.0\n",
       "SP              14624.0\n",
       "RJ               4311.0\n",
       "RS               4123.0"
      ]
     },
     "execution_count": 302,
     "metadata": {},
     "output_type": "execute_result"
    }
   ],
   "source": [
    "distancia_media_por_estado"
   ]
  },
  {
   "cell_type": "code",
   "execution_count": 303,
   "metadata": {},
   "outputs": [
    {
     "data": {
      "image/png": "[encoded data removed]",
      "text/plain": [
       "<Figure size 640x480 with 1 Axes>"
      ]
     },
     "metadata": {},
     "output_type": "display_data"
    }
   ],
   "source": [
    "distancia_total_por_estado = pd.DataFrame(tab_c.groupby('hub_state')['delivery_distance_meters'].sum().round())\n",
    "distancia_total_por_estado.rename(columns={'delivery_distance_meters':'Distância Total'}, inplace=True)\n",
    "distancia_total_por_estado.index.name = 'Estado'\n",
    "\n",
    "distancia_por_estado = distancia_media_por_estado.merge(distancia_total_por_estado,on='Estado',how='left')\n",
    "distancia_por_estado = distancia_por_estado.sort_values(by = 'Distância Total',ascending=False)\n",
    "\n",
    "sns.barplot(data= distancia_por_estado, x='Estado', y='Distância Média', hue='Estado', palette=\"mako\").set_title('Distância média percorrida por estado')\n",
    "\n",
    "plt.show()"
   ]
  },
  {
   "cell_type": "code",
   "execution_count": 304,
   "metadata": {},
   "outputs": [
    {
     "data": {
      "image/png": "[encoded data removed]",
      "text/plain": [
       "<Figure size 640x480 with 1 Axes>"
      ]
     },
     "metadata": {},
     "output_type": "display_data"
    }
   ],
   "source": [
    "sns.barplot(data= distancia_por_estado, x='Estado', y='Distância Total', hue='Estado', palette=\"mako\").set_title('Distância total percorrida por estado')\n",
    "\n",
    "plt.show()"
   ]
  },
  {
   "cell_type": "code",
   "execution_count": 305,
   "metadata": {},
   "outputs": [
    {
     "data": {
      "image/png": "[encoded data removed]",
      "text/plain": [
       "<Figure size 640x480 with 1 Axes>"
      ]
     },
     "metadata": {},
     "output_type": "display_data"
    }
   ],
   "source": [
    "tab_c.rename(columns={'delivery_distance_meters':'Distância'}, inplace=True)\n",
    "tab_c.rename(columns={'hub_state':'Estado'}, inplace=True)\n",
    "\n",
    "\n",
    "q1 = tab_c['Distância'].quantile(0.25)\n",
    "q3 = tab_c['Distância'].quantile(0.75)\n",
    "iqr = q3 - q1\n",
    "\n",
    "lower_bound = q1 - 1.5 * iqr\n",
    "upper_bound = q3 + 1.5 * iqr\n",
    "\n",
    "tab_c_sem_outiliers = tab_c[\n",
    "    (tab_c['Distância'] >= lower_bound) & \n",
    "    (tab_c['Distância'] <= upper_bound)\n",
    "]\n",
    "sns.violinplot(data=tab_c_sem_outiliers, x='Estado', y='Distância', hue='Estado', palette='mako',\n",
    "               split=False, inner=\"quart\", fill=False).set_title('Distribuição de distância por estado')\n",
    "\n",
    "plt.show()"
   ]
  },
  {
   "cell_type": "markdown",
   "metadata": {},
   "source": [
    "### Por fim, o CFO precisa de alguns indicadores de receita para apresentar para a diretoria executiva. Dentre esses indicadores, vocês precisarão levantar (1) a receita média e total separada por tipo (Food x Good), (2) A receita média e total por estado. Ou seja, são 4 tabelas ao todo."
   ]
  },
  {
   "cell_type": "code",
   "execution_count": 306,
   "metadata": {},
   "outputs": [],
   "source": [
    "tab_payment = payments[payments[\"payment_status\"] == \"PAID\"].groupby(\"payment_order_id\")[[\"payment_amount\"]].sum().reset_index()\n",
    "\n",
    "tab_order = orders[['payment_order_id', 'store_id']]\n",
    "tab_stores = stores[['store_id', 'hub_id', 'store_segment']]\n",
    "tab_hub = hub[['hub_id', 'hub_state']]\n",
    "\n",
    "tab_pay_order = tab_payment.merge(tab_order, on='payment_order_id', how='left')\n",
    "tab_order_stores = tab_pay_order.merge(tab_stores, on='store_id', how='left')\n",
    "tab_stores_hub = tab_order_stores.merge(tab_hub, on='hub_id',how='left')\n",
    "\n",
    "\n",
    "tkm_food =  pd.DataFrame(tab_order_stores.groupby('store_segment')['payment_amount'].mean().round(2).sort_values(ascending=False))\n",
    "tkm_food.rename(columns={'payment_amount':'TKM'}, inplace=True)\n",
    "revenue_food =  pd.DataFrame(tab_order_stores.groupby('store_segment')['payment_amount'].sum().round(2).sort_values(ascending=False))\n",
    "revenue_food.rename(columns={'payment_amount':'Revenue'}, inplace=True)\n",
    "\n",
    "food_good = revenue_food.merge(tkm_food, on='store_segment', how='inner')\n",
    "food_good.index.name = 'Segment'\n",
    "\n",
    "\n",
    "tkm_estado = pd.DataFrame(tab_stores_hub.groupby('hub_state')['payment_amount'].mean().round(2).sort_values(ascending=False))\n",
    "tkm_estado.rename(columns={'payment_amount':'TKM'}, inplace=True)\n",
    "revenue_estado = pd.DataFrame(tab_stores_hub.groupby('hub_state')['payment_amount'].sum().round(2).sort_values(ascending=False))\n",
    "revenue_estado.rename(columns={'payment_amount':'Revenue'}, inplace=True)\n",
    "\n",
    "estado = revenue_estado.merge(tkm_estado, on='hub_state',how='inner')\n",
    "estado.index.name = 'State'\n"
   ]
  },
  {
   "cell_type": "code",
   "execution_count": 307,
   "metadata": {},
   "outputs": [
    {
     "data": {
      "text/html": [
       "<div>\n",
       "<style scoped>\n",
       "    .dataframe tbody tr th:only-of-type {\n",
       "        vertical-align: middle;\n",
       "    }\n",
       "\n",
       "    .dataframe tbody tr th {\n",
       "        vertical-align: top;\n",
       "    }\n",
       "\n",
       "    .dataframe thead th {\n",
       "        text-align: right;\n",
       "    }\n",
       "</style>\n",
       "<table border=\"1\" class=\"dataframe\">\n",
       "  <thead>\n",
       "    <tr style=\"text-align: right;\">\n",
       "      <th></th>\n",
       "      <th>Revenue</th>\n",
       "      <th>TKM</th>\n",
       "    </tr>\n",
       "    <tr>\n",
       "      <th>Segment</th>\n",
       "      <th></th>\n",
       "      <th></th>\n",
       "    </tr>\n",
       "  </thead>\n",
       "  <tbody>\n",
       "    <tr>\n",
       "      <th>FOOD</th>\n",
       "      <td>28017106.48</td>\n",
       "      <td>90.71</td>\n",
       "    </tr>\n",
       "    <tr>\n",
       "      <th>GOOD</th>\n",
       "      <td>9287126.30</td>\n",
       "      <td>226.43</td>\n",
       "    </tr>\n",
       "  </tbody>\n",
       "</table>\n",
       "</div>"
      ],
      "text/plain": [
       "             Revenue     TKM\n",
       "Segment                     \n",
       "FOOD     28017106.48   90.71\n",
       "GOOD      9287126.30  226.43"
      ]
     },
     "execution_count": 307,
     "metadata": {},
     "output_type": "execute_result"
    }
   ],
   "source": [
    "food_good"
   ]
  },
  {
   "cell_type": "code",
   "execution_count": 308,
   "metadata": {},
   "outputs": [
    {
     "data": {
      "image/png": "[encoded data removed]",
      "text/plain": [
       "<Figure size 640x480 with 1 Axes>"
      ]
     },
     "metadata": {},
     "output_type": "display_data"
    }
   ],
   "source": [
    "sns.barplot(data= food_good, x='Segment', y='Revenue', hue='Segment', palette=\"mako\").set_title('Receita por categoria')\n",
    "\n",
    "plt.show()"
   ]
  },
  {
   "cell_type": "code",
   "execution_count": 309,
   "metadata": {},
   "outputs": [
    {
     "data": {
      "image/png": "[encoded data removed]",
      "text/plain": [
       "<Figure size 640x480 with 1 Axes>"
      ]
     },
     "metadata": {},
     "output_type": "display_data"
    }
   ],
   "source": [
    "sns.barplot(data= food_good, x='Segment', y='TKM', hue='Segment', palette=\"mako\").set_title('Ticket médio por categoria')\n",
    "\n",
    "plt.show()"
   ]
  },
  {
   "cell_type": "code",
   "execution_count": 310,
   "metadata": {},
   "outputs": [
    {
     "data": {
      "text/html": [
       "<div>\n",
       "<style scoped>\n",
       "    .dataframe tbody tr th:only-of-type {\n",
       "        vertical-align: middle;\n",
       "    }\n",
       "\n",
       "    .dataframe tbody tr th {\n",
       "        vertical-align: top;\n",
       "    }\n",
       "\n",
       "    .dataframe thead th {\n",
       "        text-align: right;\n",
       "    }\n",
       "</style>\n",
       "<table border=\"1\" class=\"dataframe\">\n",
       "  <thead>\n",
       "    <tr style=\"text-align: right;\">\n",
       "      <th></th>\n",
       "      <th>Revenue</th>\n",
       "      <th>TKM</th>\n",
       "    </tr>\n",
       "    <tr>\n",
       "      <th>State</th>\n",
       "      <th></th>\n",
       "      <th></th>\n",
       "    </tr>\n",
       "  </thead>\n",
       "  <tbody>\n",
       "    <tr>\n",
       "      <th>SP</th>\n",
       "      <td>19670213.33</td>\n",
       "      <td>123.89</td>\n",
       "    </tr>\n",
       "    <tr>\n",
       "      <th>RJ</th>\n",
       "      <td>12664651.97</td>\n",
       "      <td>97.23</td>\n",
       "    </tr>\n",
       "    <tr>\n",
       "      <th>RS</th>\n",
       "      <td>2993184.65</td>\n",
       "      <td>90.96</td>\n",
       "    </tr>\n",
       "    <tr>\n",
       "      <th>PR</th>\n",
       "      <td>1976182.83</td>\n",
       "      <td>70.66</td>\n",
       "    </tr>\n",
       "  </tbody>\n",
       "</table>\n",
       "</div>"
      ],
      "text/plain": [
       "           Revenue     TKM\n",
       "State                     \n",
       "SP     19670213.33  123.89\n",
       "RJ     12664651.97   97.23\n",
       "RS      2993184.65   90.96\n",
       "PR      1976182.83   70.66"
      ]
     },
     "execution_count": 310,
     "metadata": {},
     "output_type": "execute_result"
    }
   ],
   "source": [
    "estado"
   ]
  },
  {
   "cell_type": "code",
   "execution_count": 311,
   "metadata": {},
   "outputs": [
    {
     "data": {
      "image/png": "[encoded data removed]",
      "text/plain": [
       "<Figure size 640x480 with 1 Axes>"
      ]
     },
     "metadata": {},
     "output_type": "display_data"
    }
   ],
   "source": [
    "sns.barplot(data= estado, x='State', y='Revenue', hue='State', palette=\"mako\").set_title('Receita por categoria')\n",
    "\n",
    "plt.show()"
   ]
  },
  {
   "cell_type": "code",
   "execution_count": 312,
   "metadata": {},
   "outputs": [
    {
     "data": {
      "image/png": "[encoded data removed]",
      "text/plain": [
       "<Figure size 640x480 with 1 Axes>"
      ]
     },
     "metadata": {},
     "output_type": "display_data"
    }
   ],
   "source": [
    "sns.barplot(data= estado, x='State', y='TKM', hue='State', palette=\"mako\").set_title('Ticket médio por categoria')\n",
    "\n",
    "plt.show()"
   ]
  },
  {
   "cell_type": "markdown",
   "metadata": {},
   "source": [
    "### Se a empresa tem um gasto fixo de 5 reais por entrega, recebe 15% do valor de cada entrega como receita e, do total do lucro, distribui 20% em forma de bônus para os 2 mil funcionários, quanto cada um irá receber no período contido no dataset?"
   ]
  },
  {
   "cell_type": "code",
   "execution_count": 313,
   "metadata": {},
   "outputs": [
    {
     "name": "stdout",
     "output_type": "stream",
     "text": [
      "O bônus por pessoa será de R$382.35\n"
     ]
    }
   ],
   "source": [
    "tab_deli = deliveries[['delivery_id','delivery_order_id','delivery_distance_meters','delivery_status']]\n",
    "tab_orde = orders[['delivery_order_id','order_delivery_cost','payment_order_id']]\n",
    "tab_paym1 = payments[['payment_order_id','payment_amount','payment_status']]\n",
    "tab_paym = tab_paym1[tab_paym1[\"payment_status\"] == \"PAID\"]\n",
    "\n",
    "tab_deli_orde = tab_deli.merge(tab_orde, on= 'delivery_order_id', how='left')\n",
    "tab_orde_paym = tab_deli_orde.merge(tab_paym, on='payment_order_id',how='inner')\n",
    "\n",
    "tab_orde_paym[\"fixo\"] = 5\n",
    "\n",
    "fixo_total = tab_orde_paym['fixo'].sum()\n",
    "\n",
    "variavel_total = tab_orde_paym['order_delivery_cost'].sum()\n",
    "\n",
    "receita = tab_orde_paym['payment_amount'].sum()\n",
    "\n",
    "lucro_bruto = receita*0.15\n",
    "\n",
    "lucro_liquido = lucro_bruto - fixo_total\n",
    "\n",
    "bonus_total = lucro_liquido*0.2\n",
    "\n",
    "bonus_pp = round(bonus_total/2000,2)\n",
    "\n",
    "bonus_pp\n",
    "\n",
    "print(f'O bônus por pessoa será de R${bonus_pp}')"
   ]
  }
 ],
 "metadata": {
  "kernelspec": {
   "display_name": "Python 3",
   "language": "python",
   "name": "python3"
  },
  "language_info": {
   "codemirror_mode": {
    "name": "ipython",
    "version": 3
   },
   "file_extension": ".py",
   "mimetype": "text/x-python",
   "name": "python",
   "nbconvert_exporter": "python",
   "pygments_lexer": "ipython3",
   "version": "3.11.9"
  }
 },
 "nbformat": 4,
 "nbformat_minor": 2
}
